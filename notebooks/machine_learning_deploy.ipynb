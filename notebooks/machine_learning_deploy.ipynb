{
 "cells": [
  {
   "cell_type": "markdown",
   "metadata": {},
   "source": [
    "### Stack - Projeto Human Resources Analytics\n",
    "\n",
    "##### Machine Learning"
   ]
  },
  {
   "cell_type": "code",
   "execution_count": 1,
   "metadata": {},
   "outputs": [],
   "source": [
    "import pandas as pd\n",
    "import datetime\n",
    "import glob\n",
    "from minio import Minio \n",
    "import numpy as np \n",
    "import matplotlib.pyplot as plt"
   ]
  },
  {
   "cell_type": "code",
   "execution_count": 2,
   "metadata": {},
   "outputs": [],
   "source": [
    "client = Minio(\n",
    "        endpoint='172.21.160.1:9000',\n",
    "        access_key='minioadmin',\n",
    "        secret_key='minioadmin',\n",
    "        secure=False\n",
    ")"
   ]
  },
  {
   "cell_type": "markdown",
   "metadata": {},
   "source": [
    "##### Baixando o Dataset do Data Lake"
   ]
  },
  {
   "cell_type": "code",
   "execution_count": 3,
   "metadata": {},
   "outputs": [],
   "source": [
    "client.fget_object(\n",
    "            'processing',\n",
    "            'employees_dataset.parquet',\n",
    "            'temp_.parquet',\n",
    ")\n",
    "df = pd.read_parquet('temp_.parquet')"
   ]
  },
  {
   "cell_type": "code",
   "execution_count": 4,
   "metadata": {},
   "outputs": [
    {
     "data": {
      "text/html": [
       "<div>\n",
       "<style scoped>\n",
       "    .dataframe tbody tr th:only-of-type {\n",
       "        vertical-align: middle;\n",
       "    }\n",
       "\n",
       "    .dataframe tbody tr th {\n",
       "        vertical-align: top;\n",
       "    }\n",
       "\n",
       "    .dataframe thead th {\n",
       "        text-align: right;\n",
       "    }\n",
       "</style>\n",
       "<table border=\"1\" class=\"dataframe\">\n",
       "  <thead>\n",
       "    <tr style=\"text-align: right;\">\n",
       "      <th></th>\n",
       "      <th>department</th>\n",
       "      <th>salary</th>\n",
       "      <th>left</th>\n",
       "      <th>mean_work_last_3_months</th>\n",
       "      <th>number_projects</th>\n",
       "      <th>satisfaction_level</th>\n",
       "      <th>last_evaluation</th>\n",
       "      <th>time_in_company</th>\n",
       "      <th>work_accident</th>\n",
       "    </tr>\n",
       "  </thead>\n",
       "  <tbody>\n",
       "    <tr>\n",
       "      <th>0</th>\n",
       "      <td>sales</td>\n",
       "      <td>low</td>\n",
       "      <td>1.0</td>\n",
       "      <td>266.000000</td>\n",
       "      <td>2.0</td>\n",
       "      <td>38.0</td>\n",
       "      <td>53.0</td>\n",
       "      <td>3.0</td>\n",
       "      <td>0.0</td>\n",
       "    </tr>\n",
       "    <tr>\n",
       "      <th>1</th>\n",
       "      <td>sales</td>\n",
       "      <td>medium</td>\n",
       "      <td>1.0</td>\n",
       "      <td>252.000000</td>\n",
       "      <td>5.0</td>\n",
       "      <td>80.0</td>\n",
       "      <td>86.0</td>\n",
       "      <td>6.0</td>\n",
       "      <td>0.0</td>\n",
       "    </tr>\n",
       "    <tr>\n",
       "      <th>2</th>\n",
       "      <td>sales</td>\n",
       "      <td>medium</td>\n",
       "      <td>1.0</td>\n",
       "      <td>289.666667</td>\n",
       "      <td>7.0</td>\n",
       "      <td>11.0</td>\n",
       "      <td>88.0</td>\n",
       "      <td>4.0</td>\n",
       "      <td>0.0</td>\n",
       "    </tr>\n",
       "    <tr>\n",
       "      <th>3</th>\n",
       "      <td>sales</td>\n",
       "      <td>low</td>\n",
       "      <td>1.0</td>\n",
       "      <td>275.666667</td>\n",
       "      <td>5.0</td>\n",
       "      <td>72.0</td>\n",
       "      <td>87.0</td>\n",
       "      <td>5.0</td>\n",
       "      <td>0.0</td>\n",
       "    </tr>\n",
       "    <tr>\n",
       "      <th>4</th>\n",
       "      <td>sales</td>\n",
       "      <td>low</td>\n",
       "      <td>1.0</td>\n",
       "      <td>292.333333</td>\n",
       "      <td>2.0</td>\n",
       "      <td>37.0</td>\n",
       "      <td>52.0</td>\n",
       "      <td>3.0</td>\n",
       "      <td>0.0</td>\n",
       "    </tr>\n",
       "  </tbody>\n",
       "</table>\n",
       "</div>"
      ],
      "text/plain": [
       "  department  salary  left  mean_work_last_3_months  number_projects  \\\n",
       "0      sales     low   1.0               266.000000              2.0   \n",
       "1      sales  medium   1.0               252.000000              5.0   \n",
       "2      sales  medium   1.0               289.666667              7.0   \n",
       "3      sales     low   1.0               275.666667              5.0   \n",
       "4      sales     low   1.0               292.333333              2.0   \n",
       "\n",
       "   satisfaction_level  last_evaluation  time_in_company  work_accident  \n",
       "0                38.0             53.0              3.0            0.0  \n",
       "1                80.0             86.0              6.0            0.0  \n",
       "2                11.0             88.0              4.0            0.0  \n",
       "3                72.0             87.0              5.0            0.0  \n",
       "4                37.0             52.0              3.0            0.0  "
      ]
     },
     "execution_count": 4,
     "metadata": {},
     "output_type": "execute_result"
    }
   ],
   "source": [
    "df.head()"
   ]
  },
  {
   "cell_type": "markdown",
   "metadata": {},
   "source": [
    "##### Organizando o dataset"
   ]
  },
  {
   "cell_type": "code",
   "execution_count": 5,
   "metadata": {},
   "outputs": [],
   "source": [
    "df = df[['department', 'salary', 'mean_work_last_3_months',\n",
    "       'number_projects', 'satisfaction_level', 'last_evaluation',\n",
    "       'time_in_company', 'work_accident','left']]"
   ]
  },
  {
   "cell_type": "code",
   "execution_count": 6,
   "metadata": {},
   "outputs": [
    {
     "data": {
      "text/html": [
       "<div>\n",
       "<style scoped>\n",
       "    .dataframe tbody tr th:only-of-type {\n",
       "        vertical-align: middle;\n",
       "    }\n",
       "\n",
       "    .dataframe tbody tr th {\n",
       "        vertical-align: top;\n",
       "    }\n",
       "\n",
       "    .dataframe thead th {\n",
       "        text-align: right;\n",
       "    }\n",
       "</style>\n",
       "<table border=\"1\" class=\"dataframe\">\n",
       "  <thead>\n",
       "    <tr style=\"text-align: right;\">\n",
       "      <th></th>\n",
       "      <th>department</th>\n",
       "      <th>salary</th>\n",
       "      <th>mean_work_last_3_months</th>\n",
       "      <th>number_projects</th>\n",
       "      <th>satisfaction_level</th>\n",
       "      <th>last_evaluation</th>\n",
       "      <th>time_in_company</th>\n",
       "      <th>work_accident</th>\n",
       "      <th>left</th>\n",
       "    </tr>\n",
       "  </thead>\n",
       "  <tbody>\n",
       "    <tr>\n",
       "      <th>0</th>\n",
       "      <td>sales</td>\n",
       "      <td>low</td>\n",
       "      <td>266.000000</td>\n",
       "      <td>2.0</td>\n",
       "      <td>38.0</td>\n",
       "      <td>53.0</td>\n",
       "      <td>3.0</td>\n",
       "      <td>0.0</td>\n",
       "      <td>1.0</td>\n",
       "    </tr>\n",
       "    <tr>\n",
       "      <th>1</th>\n",
       "      <td>sales</td>\n",
       "      <td>medium</td>\n",
       "      <td>252.000000</td>\n",
       "      <td>5.0</td>\n",
       "      <td>80.0</td>\n",
       "      <td>86.0</td>\n",
       "      <td>6.0</td>\n",
       "      <td>0.0</td>\n",
       "      <td>1.0</td>\n",
       "    </tr>\n",
       "    <tr>\n",
       "      <th>2</th>\n",
       "      <td>sales</td>\n",
       "      <td>medium</td>\n",
       "      <td>289.666667</td>\n",
       "      <td>7.0</td>\n",
       "      <td>11.0</td>\n",
       "      <td>88.0</td>\n",
       "      <td>4.0</td>\n",
       "      <td>0.0</td>\n",
       "      <td>1.0</td>\n",
       "    </tr>\n",
       "    <tr>\n",
       "      <th>3</th>\n",
       "      <td>sales</td>\n",
       "      <td>low</td>\n",
       "      <td>275.666667</td>\n",
       "      <td>5.0</td>\n",
       "      <td>72.0</td>\n",
       "      <td>87.0</td>\n",
       "      <td>5.0</td>\n",
       "      <td>0.0</td>\n",
       "      <td>1.0</td>\n",
       "    </tr>\n",
       "    <tr>\n",
       "      <th>4</th>\n",
       "      <td>sales</td>\n",
       "      <td>low</td>\n",
       "      <td>292.333333</td>\n",
       "      <td>2.0</td>\n",
       "      <td>37.0</td>\n",
       "      <td>52.0</td>\n",
       "      <td>3.0</td>\n",
       "      <td>0.0</td>\n",
       "      <td>1.0</td>\n",
       "    </tr>\n",
       "  </tbody>\n",
       "</table>\n",
       "</div>"
      ],
      "text/plain": [
       "  department  salary  mean_work_last_3_months  number_projects  \\\n",
       "0      sales     low               266.000000              2.0   \n",
       "1      sales  medium               252.000000              5.0   \n",
       "2      sales  medium               289.666667              7.0   \n",
       "3      sales     low               275.666667              5.0   \n",
       "4      sales     low               292.333333              2.0   \n",
       "\n",
       "   satisfaction_level  last_evaluation  time_in_company  work_accident  left  \n",
       "0                38.0             53.0              3.0            0.0   1.0  \n",
       "1                80.0             86.0              6.0            0.0   1.0  \n",
       "2                11.0             88.0              4.0            0.0   1.0  \n",
       "3                72.0             87.0              5.0            0.0   1.0  \n",
       "4                37.0             52.0              3.0            0.0   1.0  "
      ]
     },
     "execution_count": 6,
     "metadata": {},
     "output_type": "execute_result"
    }
   ],
   "source": [
    "df.head()"
   ]
  },
  {
   "cell_type": "markdown",
   "metadata": {},
   "source": [
    "##### Verificando os registros missing"
   ]
  },
  {
   "cell_type": "code",
   "execution_count": 7,
   "metadata": {},
   "outputs": [
    {
     "data": {
      "text/plain": [
       "department                 1\n",
       "salary                     1\n",
       "mean_work_last_3_months    0\n",
       "number_projects            1\n",
       "satisfaction_level         1\n",
       "last_evaluation            1\n",
       "time_in_company            1\n",
       "work_accident              1\n",
       "left                       1\n",
       "dtype: int64"
      ]
     },
     "execution_count": 7,
     "metadata": {},
     "output_type": "execute_result"
    }
   ],
   "source": [
    "df.isnull().sum()"
   ]
  },
  {
   "cell_type": "code",
   "execution_count": 8,
   "metadata": {},
   "outputs": [
    {
     "data": {
      "text/html": [
       "<div>\n",
       "<style scoped>\n",
       "    .dataframe tbody tr th:only-of-type {\n",
       "        vertical-align: middle;\n",
       "    }\n",
       "\n",
       "    .dataframe tbody tr th {\n",
       "        vertical-align: top;\n",
       "    }\n",
       "\n",
       "    .dataframe thead th {\n",
       "        text-align: right;\n",
       "    }\n",
       "</style>\n",
       "<table border=\"1\" class=\"dataframe\">\n",
       "  <thead>\n",
       "    <tr style=\"text-align: right;\">\n",
       "      <th></th>\n",
       "      <th>department</th>\n",
       "      <th>salary</th>\n",
       "      <th>mean_work_last_3_months</th>\n",
       "      <th>number_projects</th>\n",
       "      <th>satisfaction_level</th>\n",
       "      <th>last_evaluation</th>\n",
       "      <th>time_in_company</th>\n",
       "      <th>work_accident</th>\n",
       "      <th>left</th>\n",
       "    </tr>\n",
       "  </thead>\n",
       "  <tbody>\n",
       "    <tr>\n",
       "      <th>0</th>\n",
       "      <td>sales</td>\n",
       "      <td>low</td>\n",
       "      <td>266.000000</td>\n",
       "      <td>2.0</td>\n",
       "      <td>38.0</td>\n",
       "      <td>53.0</td>\n",
       "      <td>3.0</td>\n",
       "      <td>0.0</td>\n",
       "      <td>1.0</td>\n",
       "    </tr>\n",
       "    <tr>\n",
       "      <th>1</th>\n",
       "      <td>sales</td>\n",
       "      <td>medium</td>\n",
       "      <td>252.000000</td>\n",
       "      <td>5.0</td>\n",
       "      <td>80.0</td>\n",
       "      <td>86.0</td>\n",
       "      <td>6.0</td>\n",
       "      <td>0.0</td>\n",
       "      <td>1.0</td>\n",
       "    </tr>\n",
       "    <tr>\n",
       "      <th>2</th>\n",
       "      <td>sales</td>\n",
       "      <td>medium</td>\n",
       "      <td>289.666667</td>\n",
       "      <td>7.0</td>\n",
       "      <td>11.0</td>\n",
       "      <td>88.0</td>\n",
       "      <td>4.0</td>\n",
       "      <td>0.0</td>\n",
       "      <td>1.0</td>\n",
       "    </tr>\n",
       "    <tr>\n",
       "      <th>3</th>\n",
       "      <td>sales</td>\n",
       "      <td>low</td>\n",
       "      <td>275.666667</td>\n",
       "      <td>5.0</td>\n",
       "      <td>72.0</td>\n",
       "      <td>87.0</td>\n",
       "      <td>5.0</td>\n",
       "      <td>0.0</td>\n",
       "      <td>1.0</td>\n",
       "    </tr>\n",
       "    <tr>\n",
       "      <th>4</th>\n",
       "      <td>sales</td>\n",
       "      <td>low</td>\n",
       "      <td>292.333333</td>\n",
       "      <td>2.0</td>\n",
       "      <td>37.0</td>\n",
       "      <td>52.0</td>\n",
       "      <td>3.0</td>\n",
       "      <td>0.0</td>\n",
       "      <td>1.0</td>\n",
       "    </tr>\n",
       "    <tr>\n",
       "      <th>...</th>\n",
       "      <td>...</td>\n",
       "      <td>...</td>\n",
       "      <td>...</td>\n",
       "      <td>...</td>\n",
       "      <td>...</td>\n",
       "      <td>...</td>\n",
       "      <td>...</td>\n",
       "      <td>...</td>\n",
       "      <td>...</td>\n",
       "    </tr>\n",
       "    <tr>\n",
       "      <th>14995</th>\n",
       "      <td>support</td>\n",
       "      <td>low</td>\n",
       "      <td>253.333333</td>\n",
       "      <td>2.0</td>\n",
       "      <td>37.0</td>\n",
       "      <td>48.0</td>\n",
       "      <td>3.0</td>\n",
       "      <td>0.0</td>\n",
       "      <td>1.0</td>\n",
       "    </tr>\n",
       "    <tr>\n",
       "      <th>14996</th>\n",
       "      <td>support</td>\n",
       "      <td>low</td>\n",
       "      <td>288.000000</td>\n",
       "      <td>2.0</td>\n",
       "      <td>37.0</td>\n",
       "      <td>53.0</td>\n",
       "      <td>3.0</td>\n",
       "      <td>0.0</td>\n",
       "      <td>1.0</td>\n",
       "    </tr>\n",
       "    <tr>\n",
       "      <th>14997</th>\n",
       "      <td>support</td>\n",
       "      <td>low</td>\n",
       "      <td>272.000000</td>\n",
       "      <td>6.0</td>\n",
       "      <td>11.0</td>\n",
       "      <td>96.0</td>\n",
       "      <td>4.0</td>\n",
       "      <td>0.0</td>\n",
       "      <td>1.0</td>\n",
       "    </tr>\n",
       "    <tr>\n",
       "      <th>14998</th>\n",
       "      <td>support</td>\n",
       "      <td>low</td>\n",
       "      <td>276.666667</td>\n",
       "      <td>2.0</td>\n",
       "      <td>37.0</td>\n",
       "      <td>52.0</td>\n",
       "      <td>3.0</td>\n",
       "      <td>0.0</td>\n",
       "      <td>1.0</td>\n",
       "    </tr>\n",
       "    <tr>\n",
       "      <th>14999</th>\n",
       "      <td>NaN</td>\n",
       "      <td>NaN</td>\n",
       "      <td>261.000000</td>\n",
       "      <td>NaN</td>\n",
       "      <td>NaN</td>\n",
       "      <td>NaN</td>\n",
       "      <td>NaN</td>\n",
       "      <td>NaN</td>\n",
       "      <td>NaN</td>\n",
       "    </tr>\n",
       "  </tbody>\n",
       "</table>\n",
       "<p>15000 rows × 9 columns</p>\n",
       "</div>"
      ],
      "text/plain": [
       "      department  salary  mean_work_last_3_months  number_projects  \\\n",
       "0          sales     low               266.000000              2.0   \n",
       "1          sales  medium               252.000000              5.0   \n",
       "2          sales  medium               289.666667              7.0   \n",
       "3          sales     low               275.666667              5.0   \n",
       "4          sales     low               292.333333              2.0   \n",
       "...          ...     ...                      ...              ...   \n",
       "14995    support     low               253.333333              2.0   \n",
       "14996    support     low               288.000000              2.0   \n",
       "14997    support     low               272.000000              6.0   \n",
       "14998    support     low               276.666667              2.0   \n",
       "14999        NaN     NaN               261.000000              NaN   \n",
       "\n",
       "       satisfaction_level  last_evaluation  time_in_company  work_accident  \\\n",
       "0                    38.0             53.0              3.0            0.0   \n",
       "1                    80.0             86.0              6.0            0.0   \n",
       "2                    11.0             88.0              4.0            0.0   \n",
       "3                    72.0             87.0              5.0            0.0   \n",
       "4                    37.0             52.0              3.0            0.0   \n",
       "...                   ...              ...              ...            ...   \n",
       "14995                37.0             48.0              3.0            0.0   \n",
       "14996                37.0             53.0              3.0            0.0   \n",
       "14997                11.0             96.0              4.0            0.0   \n",
       "14998                37.0             52.0              3.0            0.0   \n",
       "14999                 NaN              NaN              NaN            NaN   \n",
       "\n",
       "       left  \n",
       "0       1.0  \n",
       "1       1.0  \n",
       "2       1.0  \n",
       "3       1.0  \n",
       "4       1.0  \n",
       "...     ...  \n",
       "14995   1.0  \n",
       "14996   1.0  \n",
       "14997   1.0  \n",
       "14998   1.0  \n",
       "14999   NaN  \n",
       "\n",
       "[15000 rows x 9 columns]"
      ]
     },
     "execution_count": 8,
     "metadata": {},
     "output_type": "execute_result"
    }
   ],
   "source": [
    "df[df.notnull()]"
   ]
  },
  {
   "cell_type": "code",
   "execution_count": 9,
   "metadata": {},
   "outputs": [],
   "source": [
    "df = df[:14998]"
   ]
  },
  {
   "cell_type": "markdown",
   "metadata": {},
   "source": [
    "##### Alterando os tipos de dados"
   ]
  },
  {
   "cell_type": "code",
   "execution_count": 10,
   "metadata": {},
   "outputs": [],
   "source": [
    "df[\"number_projects\"] = df[\"number_projects\"].astype(int)\n",
    "df[\"mean_work_last_3_months\"] = df[\"mean_work_last_3_months\"].astype(int)\n",
    "df[\"time_in_company\"] = df[\"time_in_company\"].astype(int)\n",
    "df[\"work_accident\"] = df[\"work_accident\"].astype(int)\n",
    "df[\"left\"] = df[\"left\"].astype(int)"
   ]
  },
  {
   "cell_type": "code",
   "execution_count": 11,
   "metadata": {},
   "outputs": [
    {
     "name": "stdout",
     "output_type": "stream",
     "text": [
      "<class 'pandas.core.frame.DataFrame'>\n",
      "RangeIndex: 14998 entries, 0 to 14997\n",
      "Data columns (total 9 columns):\n",
      " #   Column                   Non-Null Count  Dtype  \n",
      "---  ------                   --------------  -----  \n",
      " 0   department               14998 non-null  object \n",
      " 1   salary                   14998 non-null  object \n",
      " 2   mean_work_last_3_months  14998 non-null  int64  \n",
      " 3   number_projects          14998 non-null  int64  \n",
      " 4   satisfaction_level       14998 non-null  float64\n",
      " 5   last_evaluation          14998 non-null  float64\n",
      " 6   time_in_company          14998 non-null  int64  \n",
      " 7   work_accident            14998 non-null  int64  \n",
      " 8   left                     14998 non-null  int64  \n",
      "dtypes: float64(2), int64(5), object(2)\n",
      "memory usage: 1.0+ MB\n"
     ]
    }
   ],
   "source": [
    "df.info()"
   ]
  },
  {
   "cell_type": "code",
   "execution_count": 12,
   "metadata": {},
   "outputs": [
    {
     "data": {
      "text/html": [
       "<div>\n",
       "<style scoped>\n",
       "    .dataframe tbody tr th:only-of-type {\n",
       "        vertical-align: middle;\n",
       "    }\n",
       "\n",
       "    .dataframe tbody tr th {\n",
       "        vertical-align: top;\n",
       "    }\n",
       "\n",
       "    .dataframe thead th {\n",
       "        text-align: right;\n",
       "    }\n",
       "</style>\n",
       "<table border=\"1\" class=\"dataframe\">\n",
       "  <thead>\n",
       "    <tr style=\"text-align: right;\">\n",
       "      <th></th>\n",
       "      <th>department</th>\n",
       "      <th>salary</th>\n",
       "      <th>mean_work_last_3_months</th>\n",
       "      <th>number_projects</th>\n",
       "      <th>satisfaction_level</th>\n",
       "      <th>last_evaluation</th>\n",
       "      <th>time_in_company</th>\n",
       "      <th>work_accident</th>\n",
       "      <th>left</th>\n",
       "    </tr>\n",
       "  </thead>\n",
       "  <tbody>\n",
       "    <tr>\n",
       "      <th>0</th>\n",
       "      <td>sales</td>\n",
       "      <td>low</td>\n",
       "      <td>266</td>\n",
       "      <td>2</td>\n",
       "      <td>38.0</td>\n",
       "      <td>53.0</td>\n",
       "      <td>3</td>\n",
       "      <td>0</td>\n",
       "      <td>1</td>\n",
       "    </tr>\n",
       "    <tr>\n",
       "      <th>1</th>\n",
       "      <td>sales</td>\n",
       "      <td>medium</td>\n",
       "      <td>252</td>\n",
       "      <td>5</td>\n",
       "      <td>80.0</td>\n",
       "      <td>86.0</td>\n",
       "      <td>6</td>\n",
       "      <td>0</td>\n",
       "      <td>1</td>\n",
       "    </tr>\n",
       "    <tr>\n",
       "      <th>2</th>\n",
       "      <td>sales</td>\n",
       "      <td>medium</td>\n",
       "      <td>289</td>\n",
       "      <td>7</td>\n",
       "      <td>11.0</td>\n",
       "      <td>88.0</td>\n",
       "      <td>4</td>\n",
       "      <td>0</td>\n",
       "      <td>1</td>\n",
       "    </tr>\n",
       "    <tr>\n",
       "      <th>3</th>\n",
       "      <td>sales</td>\n",
       "      <td>low</td>\n",
       "      <td>275</td>\n",
       "      <td>5</td>\n",
       "      <td>72.0</td>\n",
       "      <td>87.0</td>\n",
       "      <td>5</td>\n",
       "      <td>0</td>\n",
       "      <td>1</td>\n",
       "    </tr>\n",
       "    <tr>\n",
       "      <th>4</th>\n",
       "      <td>sales</td>\n",
       "      <td>low</td>\n",
       "      <td>292</td>\n",
       "      <td>2</td>\n",
       "      <td>37.0</td>\n",
       "      <td>52.0</td>\n",
       "      <td>3</td>\n",
       "      <td>0</td>\n",
       "      <td>1</td>\n",
       "    </tr>\n",
       "  </tbody>\n",
       "</table>\n",
       "</div>"
      ],
      "text/plain": [
       "  department  salary  mean_work_last_3_months  number_projects  \\\n",
       "0      sales     low                      266                2   \n",
       "1      sales  medium                      252                5   \n",
       "2      sales  medium                      289                7   \n",
       "3      sales     low                      275                5   \n",
       "4      sales     low                      292                2   \n",
       "\n",
       "   satisfaction_level  last_evaluation  time_in_company  work_accident  left  \n",
       "0                38.0             53.0                3              0     1  \n",
       "1                80.0             86.0                6              0     1  \n",
       "2                11.0             88.0                4              0     1  \n",
       "3                72.0             87.0                5              0     1  \n",
       "4                37.0             52.0                3              0     1  "
      ]
     },
     "execution_count": 12,
     "metadata": {},
     "output_type": "execute_result"
    }
   ],
   "source": [
    "df.head()"
   ]
  },
  {
   "cell_type": "code",
   "execution_count": 13,
   "metadata": {},
   "outputs": [],
   "source": [
    "df = df[:14998]"
   ]
  },
  {
   "cell_type": "markdown",
   "metadata": {},
   "source": [
    "##### Renomeando atributos"
   ]
  },
  {
   "cell_type": "code",
   "execution_count": 14,
   "metadata": {},
   "outputs": [],
   "source": [
    "df = df.rename(columns={'satisfaction_level': 'satisfaction', \n",
    "                        'last_evaluation': 'evaluation',\n",
    "                        'number_projects': 'projectCount',\n",
    "                        'mean_work_last_3_months': 'averageMonthlyHours',\n",
    "                        'time_in_company': 'yearsAtCompany',\n",
    "                        'work_accident': 'workAccident',\n",
    "                        'left' : 'turnover'\n",
    "                        })"
   ]
  },
  {
   "cell_type": "code",
   "execution_count": 15,
   "metadata": {},
   "outputs": [
    {
     "data": {
      "text/html": [
       "<div>\n",
       "<style scoped>\n",
       "    .dataframe tbody tr th:only-of-type {\n",
       "        vertical-align: middle;\n",
       "    }\n",
       "\n",
       "    .dataframe tbody tr th {\n",
       "        vertical-align: top;\n",
       "    }\n",
       "\n",
       "    .dataframe thead th {\n",
       "        text-align: right;\n",
       "    }\n",
       "</style>\n",
       "<table border=\"1\" class=\"dataframe\">\n",
       "  <thead>\n",
       "    <tr style=\"text-align: right;\">\n",
       "      <th></th>\n",
       "      <th>department</th>\n",
       "      <th>salary</th>\n",
       "      <th>averageMonthlyHours</th>\n",
       "      <th>projectCount</th>\n",
       "      <th>satisfaction</th>\n",
       "      <th>evaluation</th>\n",
       "      <th>yearsAtCompany</th>\n",
       "      <th>workAccident</th>\n",
       "      <th>turnover</th>\n",
       "    </tr>\n",
       "  </thead>\n",
       "  <tbody>\n",
       "    <tr>\n",
       "      <th>0</th>\n",
       "      <td>sales</td>\n",
       "      <td>low</td>\n",
       "      <td>266</td>\n",
       "      <td>2</td>\n",
       "      <td>38.0</td>\n",
       "      <td>53.0</td>\n",
       "      <td>3</td>\n",
       "      <td>0</td>\n",
       "      <td>1</td>\n",
       "    </tr>\n",
       "    <tr>\n",
       "      <th>1</th>\n",
       "      <td>sales</td>\n",
       "      <td>medium</td>\n",
       "      <td>252</td>\n",
       "      <td>5</td>\n",
       "      <td>80.0</td>\n",
       "      <td>86.0</td>\n",
       "      <td>6</td>\n",
       "      <td>0</td>\n",
       "      <td>1</td>\n",
       "    </tr>\n",
       "    <tr>\n",
       "      <th>2</th>\n",
       "      <td>sales</td>\n",
       "      <td>medium</td>\n",
       "      <td>289</td>\n",
       "      <td>7</td>\n",
       "      <td>11.0</td>\n",
       "      <td>88.0</td>\n",
       "      <td>4</td>\n",
       "      <td>0</td>\n",
       "      <td>1</td>\n",
       "    </tr>\n",
       "    <tr>\n",
       "      <th>3</th>\n",
       "      <td>sales</td>\n",
       "      <td>low</td>\n",
       "      <td>275</td>\n",
       "      <td>5</td>\n",
       "      <td>72.0</td>\n",
       "      <td>87.0</td>\n",
       "      <td>5</td>\n",
       "      <td>0</td>\n",
       "      <td>1</td>\n",
       "    </tr>\n",
       "    <tr>\n",
       "      <th>4</th>\n",
       "      <td>sales</td>\n",
       "      <td>low</td>\n",
       "      <td>292</td>\n",
       "      <td>2</td>\n",
       "      <td>37.0</td>\n",
       "      <td>52.0</td>\n",
       "      <td>3</td>\n",
       "      <td>0</td>\n",
       "      <td>1</td>\n",
       "    </tr>\n",
       "  </tbody>\n",
       "</table>\n",
       "</div>"
      ],
      "text/plain": [
       "  department  salary  averageMonthlyHours  projectCount  satisfaction  \\\n",
       "0      sales     low                  266             2          38.0   \n",
       "1      sales  medium                  252             5          80.0   \n",
       "2      sales  medium                  289             7          11.0   \n",
       "3      sales     low                  275             5          72.0   \n",
       "4      sales     low                  292             2          37.0   \n",
       "\n",
       "   evaluation  yearsAtCompany  workAccident  turnover  \n",
       "0        53.0               3             0         1  \n",
       "1        86.0               6             0         1  \n",
       "2        88.0               4             0         1  \n",
       "3        87.0               5             0         1  \n",
       "4        52.0               3             0         1  "
      ]
     },
     "execution_count": 15,
     "metadata": {},
     "output_type": "execute_result"
    }
   ],
   "source": [
    "df.head()"
   ]
  },
  {
   "cell_type": "markdown",
   "metadata": {},
   "source": [
    "####  Importancia de Features\n",
    "\n",
    "##### Converte os atributos categóricos em valores numéricos"
   ]
  },
  {
   "cell_type": "code",
   "execution_count": 16,
   "metadata": {},
   "outputs": [],
   "source": [
    "df['department'] = df['department'].astype('category').cat.codes\n",
    "df['salary'] = df['salary'].astype('category').cat.codes"
   ]
  },
  {
   "cell_type": "code",
   "execution_count": 17,
   "metadata": {},
   "outputs": [
    {
     "data": {
      "text/html": [
       "<div>\n",
       "<style scoped>\n",
       "    .dataframe tbody tr th:only-of-type {\n",
       "        vertical-align: middle;\n",
       "    }\n",
       "\n",
       "    .dataframe tbody tr th {\n",
       "        vertical-align: top;\n",
       "    }\n",
       "\n",
       "    .dataframe thead th {\n",
       "        text-align: right;\n",
       "    }\n",
       "</style>\n",
       "<table border=\"1\" class=\"dataframe\">\n",
       "  <thead>\n",
       "    <tr style=\"text-align: right;\">\n",
       "      <th></th>\n",
       "      <th>department</th>\n",
       "      <th>salary</th>\n",
       "      <th>averageMonthlyHours</th>\n",
       "      <th>projectCount</th>\n",
       "      <th>satisfaction</th>\n",
       "      <th>evaluation</th>\n",
       "      <th>yearsAtCompany</th>\n",
       "      <th>workAccident</th>\n",
       "      <th>turnover</th>\n",
       "    </tr>\n",
       "  </thead>\n",
       "  <tbody>\n",
       "    <tr>\n",
       "      <th>0</th>\n",
       "      <td>7</td>\n",
       "      <td>1</td>\n",
       "      <td>266</td>\n",
       "      <td>2</td>\n",
       "      <td>38.0</td>\n",
       "      <td>53.0</td>\n",
       "      <td>3</td>\n",
       "      <td>0</td>\n",
       "      <td>1</td>\n",
       "    </tr>\n",
       "    <tr>\n",
       "      <th>1</th>\n",
       "      <td>7</td>\n",
       "      <td>2</td>\n",
       "      <td>252</td>\n",
       "      <td>5</td>\n",
       "      <td>80.0</td>\n",
       "      <td>86.0</td>\n",
       "      <td>6</td>\n",
       "      <td>0</td>\n",
       "      <td>1</td>\n",
       "    </tr>\n",
       "    <tr>\n",
       "      <th>2</th>\n",
       "      <td>7</td>\n",
       "      <td>2</td>\n",
       "      <td>289</td>\n",
       "      <td>7</td>\n",
       "      <td>11.0</td>\n",
       "      <td>88.0</td>\n",
       "      <td>4</td>\n",
       "      <td>0</td>\n",
       "      <td>1</td>\n",
       "    </tr>\n",
       "    <tr>\n",
       "      <th>3</th>\n",
       "      <td>7</td>\n",
       "      <td>1</td>\n",
       "      <td>275</td>\n",
       "      <td>5</td>\n",
       "      <td>72.0</td>\n",
       "      <td>87.0</td>\n",
       "      <td>5</td>\n",
       "      <td>0</td>\n",
       "      <td>1</td>\n",
       "    </tr>\n",
       "    <tr>\n",
       "      <th>4</th>\n",
       "      <td>7</td>\n",
       "      <td>1</td>\n",
       "      <td>292</td>\n",
       "      <td>2</td>\n",
       "      <td>37.0</td>\n",
       "      <td>52.0</td>\n",
       "      <td>3</td>\n",
       "      <td>0</td>\n",
       "      <td>1</td>\n",
       "    </tr>\n",
       "  </tbody>\n",
       "</table>\n",
       "</div>"
      ],
      "text/plain": [
       "   department  salary  averageMonthlyHours  projectCount  satisfaction  \\\n",
       "0           7       1                  266             2          38.0   \n",
       "1           7       2                  252             5          80.0   \n",
       "2           7       2                  289             7          11.0   \n",
       "3           7       1                  275             5          72.0   \n",
       "4           7       1                  292             2          37.0   \n",
       "\n",
       "   evaluation  yearsAtCompany  workAccident  turnover  \n",
       "0        53.0               3             0         1  \n",
       "1        86.0               6             0         1  \n",
       "2        88.0               4             0         1  \n",
       "3        87.0               5             0         1  \n",
       "4        52.0               3             0         1  "
      ]
     },
     "execution_count": 17,
     "metadata": {},
     "output_type": "execute_result"
    }
   ],
   "source": [
    "df.head()"
   ]
  },
  {
   "cell_type": "markdown",
   "metadata": {},
   "source": [
    "##### Separando os conjuntos de dados"
   ]
  },
  {
   "cell_type": "code",
   "execution_count": 18,
   "metadata": {},
   "outputs": [],
   "source": [
    "target_name = 'turnover'\n",
    "x = df.drop('turnover', axis=1)\n",
    "y = df[target_name]"
   ]
  },
  {
   "cell_type": "markdown",
   "metadata": {},
   "source": [
    "##### Transformando os dados"
   ]
  },
  {
   "cell_type": "code",
   "execution_count": 19,
   "metadata": {},
   "outputs": [],
   "source": [
    "from sklearn.preprocessing import MinMaxScaler"
   ]
  },
  {
   "cell_type": "code",
   "execution_count": 20,
   "metadata": {},
   "outputs": [],
   "source": [
    "scaler = MinMaxScaler()"
   ]
  },
  {
   "cell_type": "code",
   "execution_count": 21,
   "metadata": {},
   "outputs": [],
   "source": [
    "x = scaler.fit_transform(x)"
   ]
  },
  {
   "cell_type": "code",
   "execution_count": 22,
   "metadata": {},
   "outputs": [
    {
     "data": {
      "text/plain": [
       "array([[0.77777778, 0.5       , 0.38202247, ..., 0.265625  , 0.125     ,\n",
       "        0.        ],\n",
       "       [0.77777778, 1.        , 0.2247191 , ..., 0.78125   , 0.5       ,\n",
       "        0.        ],\n",
       "       [0.77777778, 1.        , 0.64044944, ..., 0.8125    , 0.25      ,\n",
       "        0.        ],\n",
       "       ...,\n",
       "       [0.88888889, 0.5       , 0.23595506, ..., 0.1875    , 0.125     ,\n",
       "        0.        ],\n",
       "       [0.88888889, 0.5       , 0.62921348, ..., 0.265625  , 0.125     ,\n",
       "        0.        ],\n",
       "       [0.88888889, 0.5       , 0.4494382 , ..., 0.9375    , 0.25      ,\n",
       "        0.        ]])"
      ]
     },
     "execution_count": 22,
     "metadata": {},
     "output_type": "execute_result"
    }
   ],
   "source": [
    "x"
   ]
  },
  {
   "cell_type": "markdown",
   "metadata": {},
   "source": [
    "##### Separando os conjuntos"
   ]
  },
  {
   "cell_type": "code",
   "execution_count": 23,
   "metadata": {},
   "outputs": [],
   "source": [
    "from sklearn.model_selection import train_test_split"
   ]
  },
  {
   "cell_type": "code",
   "execution_count": 24,
   "metadata": {},
   "outputs": [],
   "source": [
    "x_train, x_test, y_train, y_test = train_test_split(\n",
    "        x,\n",
    "        y,\n",
    "        test_size=0.2,\n",
    "        random_state=123,\n",
    "        stratify=y\n",
    ")"
   ]
  },
  {
   "cell_type": "markdown",
   "metadata": {},
   "source": [
    "##### Treinando o algoritmo de árvore de decisão"
   ]
  },
  {
   "cell_type": "code",
   "execution_count": 25,
   "metadata": {},
   "outputs": [],
   "source": [
    "from sklearn.tree import DecisionTreeClassifier"
   ]
  },
  {
   "cell_type": "code",
   "execution_count": 26,
   "metadata": {},
   "outputs": [],
   "source": [
    "dtree = DecisionTreeClassifier()\n",
    "dtree = dtree.fit(x_train, y_train)"
   ]
  },
  {
   "cell_type": "code",
   "execution_count": 27,
   "metadata": {},
   "outputs": [],
   "source": [
    "importances = dtree.feature_importances_\n",
    "feat_names = df.drop(['turnover'], axis=1).columns"
   ]
  },
  {
   "cell_type": "code",
   "execution_count": 28,
   "metadata": {},
   "outputs": [
    {
     "data": {
      "image/png": "[encoded data removed]",
      "text/plain": [
       "<Figure size 864x288 with 1 Axes>"
      ]
     },
     "metadata": {
      "needs_background": "light"
     },
     "output_type": "display_data"
    }
   ],
   "source": [
    "indices = np.argsort(importances)[::-1]\n",
    "plt.figure(figsize=(12,4))\n",
    "plt.title(\"Feature importances by DecisionTreeClassifier\")\n",
    "plt.bar(range(len(indices)), importances[indices], color='lightblue', align='center')\n",
    "plt.xticks(range(len(indices)), feat_names[indices], rotation='vertical', fontsize=14)\n",
    "plt.xlim([-1, len(indices)])\n",
    "plt.show()"
   ]
  },
  {
   "cell_type": "markdown",
   "metadata": {},
   "source": [
    "##### Filtrando apenas os atributos relevantes "
   ]
  },
  {
   "cell_type": "code",
   "execution_count": 29,
   "metadata": {},
   "outputs": [],
   "source": [
    "x = df[[\"satisfaction\", \"evaluation\", \"averageMonthlyHours\", \"yearsAtCompany\"]]"
   ]
  },
  {
   "cell_type": "markdown",
   "metadata": {},
   "source": [
    "##### Separando os conjuntos de dados"
   ]
  },
  {
   "cell_type": "code",
   "execution_count": 30,
   "metadata": {},
   "outputs": [],
   "source": [
    "scaler = MinMaxScaler()"
   ]
  },
  {
   "cell_type": "code",
   "execution_count": 31,
   "metadata": {},
   "outputs": [],
   "source": [
    "x = scaler.fit_transform(x)"
   ]
  },
  {
   "cell_type": "code",
   "execution_count": 32,
   "metadata": {},
   "outputs": [],
   "source": [
    "x_train, x_test, y_train, y_test = train_test_split(\n",
    "        x,\n",
    "        y,\n",
    "        test_size=0.2,\n",
    "        random_state=123,\n",
    "        stratify=y\n",
    ")"
   ]
  },
  {
   "cell_type": "code",
   "execution_count": 33,
   "metadata": {},
   "outputs": [
    {
     "data": {
      "text/plain": [
       "array([[0.06593407, 0.046875  , 0.53932584, 0.25      ],\n",
       "       [0.        , 0.703125  , 0.41573034, 0.25      ],\n",
       "       [0.81318681, 0.296875  , 0.76404494, 0.625     ],\n",
       "       ...,\n",
       "       [0.32967033, 0.3125    , 0.59550562, 0.125     ],\n",
       "       [0.83516484, 0.359375  , 0.58426966, 0.        ],\n",
       "       [0.50549451, 0.578125  , 0.46067416, 0.125     ]])"
      ]
     },
     "execution_count": 33,
     "metadata": {},
     "output_type": "execute_result"
    }
   ],
   "source": [
    "x_train"
   ]
  },
  {
   "cell_type": "markdown",
   "metadata": {},
   "source": [
    "##### Função do modelo de base"
   ]
  },
  {
   "cell_type": "code",
   "execution_count": 34,
   "metadata": {},
   "outputs": [],
   "source": [
    "def base_rate_model(X):\n",
    "    y = np.zeros(X.shape[0])\n",
    "    return y"
   ]
  },
  {
   "cell_type": "markdown",
   "metadata": {},
   "source": [
    "##### Importando métodos de métrica de avaliação"
   ]
  },
  {
   "cell_type": "code",
   "execution_count": 35,
   "metadata": {},
   "outputs": [],
   "source": [
    "from sklearn.metrics import roc_auc_score\n",
    "from sklearn.metrics import accuracy_score\n",
    "from sklearn.metrics import classification_report"
   ]
  },
  {
   "cell_type": "code",
   "execution_count": 36,
   "metadata": {},
   "outputs": [],
   "source": [
    "def accuracy_result(y_test, y_predict):\n",
    "    acc = accuracy_score(y_test, y_predict)\n",
    "    print(\"Accuracy = %2.2f\" % acc)"
   ]
  },
  {
   "cell_type": "code",
   "execution_count": 37,
   "metadata": {},
   "outputs": [],
   "source": [
    "def roc_classification_report_results(model, y_test, y_predict):\n",
    "    roc_ = roc_auc_score(y_test, y_predict)\n",
    "    classification_report_ = classification_report(y_test, y_predict)\n",
    "\n",
    "    print(\"\\n{} AUC = {}\\n\".format(model, roc_))\n",
    "    print(classification_report_)"
   ]
  },
  {
   "cell_type": "markdown",
   "metadata": {},
   "source": [
    "##### Análise do modelo de baseline"
   ]
  },
  {
   "cell_type": "code",
   "execution_count": 38,
   "metadata": {},
   "outputs": [],
   "source": [
    "y_predict = base_rate_model(x_test)"
   ]
  },
  {
   "cell_type": "code",
   "execution_count": 39,
   "metadata": {},
   "outputs": [
    {
     "name": "stdout",
     "output_type": "stream",
     "text": [
      "Accuracy = 0.76\n"
     ]
    }
   ],
   "source": [
    "accuracy_result(y_test, y_predict)"
   ]
  },
  {
   "cell_type": "code",
   "execution_count": 40,
   "metadata": {},
   "outputs": [
    {
     "name": "stdout",
     "output_type": "stream",
     "text": [
      "\n",
      "Base Model AUC = 0.5\n",
      "\n",
      "              precision    recall  f1-score   support\n",
      "\n",
      "           0       0.76      1.00      0.86      2286\n",
      "           1       0.00      0.00      0.00       714\n",
      "\n",
      "    accuracy                           0.76      3000\n",
      "   macro avg       0.38      0.50      0.43      3000\n",
      "weighted avg       0.58      0.76      0.66      3000\n",
      "\n"
     ]
    },
    {
     "name": "stderr",
     "output_type": "stream",
     "text": [
      "/home/matheus/anaconda3/lib/python3.9/site-packages/sklearn/metrics/_classification.py:1334: UndefinedMetricWarning: Precision and F-score are ill-defined and being set to 0.0 in labels with no predicted samples. Use `zero_division` parameter to control this behavior.\n",
      "  _warn_prf(average, modifier, msg_start, len(result))\n",
      "/home/matheus/anaconda3/lib/python3.9/site-packages/sklearn/metrics/_classification.py:1334: UndefinedMetricWarning: Precision and F-score are ill-defined and being set to 0.0 in labels with no predicted samples. Use `zero_division` parameter to control this behavior.\n",
      "  _warn_prf(average, modifier, msg_start, len(result))\n",
      "/home/matheus/anaconda3/lib/python3.9/site-packages/sklearn/metrics/_classification.py:1334: UndefinedMetricWarning: Precision and F-score are ill-defined and being set to 0.0 in labels with no predicted samples. Use `zero_division` parameter to control this behavior.\n",
      "  _warn_prf(average, modifier, msg_start, len(result))\n"
     ]
    }
   ],
   "source": [
    "roc_classification_report_results(\"Base Model\", y_test, y_predict)"
   ]
  },
  {
   "cell_type": "markdown",
   "metadata": {},
   "source": [
    "#### Modelo de Regressão Logística\n",
    "\n",
    "##### Instanciando o algoritmo"
   ]
  },
  {
   "cell_type": "code",
   "execution_count": 41,
   "metadata": {},
   "outputs": [],
   "source": [
    "from sklearn.linear_model import LogisticRegression\n",
    "logis = LogisticRegression()"
   ]
  },
  {
   "cell_type": "markdown",
   "metadata": {},
   "source": [
    "##### Realizando o treinamento"
   ]
  },
  {
   "cell_type": "code",
   "execution_count": 42,
   "metadata": {},
   "outputs": [
    {
     "data": {
      "text/html": [
       "<style>#sk-container-id-1 {color: black;background-color: white;}#sk-container-id-1 pre{padding: 0;}#sk-container-id-1 div.sk-toggleable {background-color: white;}#sk-container-id-1 label.sk-toggleable__label {cursor: pointer;display: block;width: 100%;margin-bottom: 0;padding: 0.3em;box-sizing: border-box;text-align: center;}#sk-container-id-1 label.sk-toggleable__label-arrow:before {content: \"▸\";float: left;margin-right: 0.25em;color: #696969;}#sk-container-id-1 label.sk-toggleable__label-arrow:hover:before {color: black;}#sk-container-id-1 div.sk-estimator:hover label.sk-toggleable__label-arrow:before {color: black;}#sk-container-id-1 div.sk-toggleable__content {max-height: 0;max-width: 0;overflow: hidden;text-align: left;background-color: #f0f8ff;}#sk-container-id-1 div.sk-toggleable__content pre {margin: 0.2em;color: black;border-radius: 0.25em;background-color: #f0f8ff;}#sk-container-id-1 input.sk-toggleable__control:checked~div.sk-toggleable__content {max-height: 200px;max-width: 100%;overflow: auto;}#sk-container-id-1 input.sk-toggleable__control:checked~label.sk-toggleable__label-arrow:before {content: \"▾\";}#sk-container-id-1 div.sk-estimator input.sk-toggleable__control:checked~label.sk-toggleable__label {background-color: #d4ebff;}#sk-container-id-1 div.sk-label input.sk-toggleable__control:checked~label.sk-toggleable__label {background-color: #d4ebff;}#sk-container-id-1 input.sk-hidden--visually {border: 0;clip: rect(1px 1px 1px 1px);clip: rect(1px, 1px, 1px, 1px);height: 1px;margin: -1px;overflow: hidden;padding: 0;position: absolute;width: 1px;}#sk-container-id-1 div.sk-estimator {font-family: monospace;background-color: #f0f8ff;border: 1px dotted black;border-radius: 0.25em;box-sizing: border-box;margin-bottom: 0.5em;}#sk-container-id-1 div.sk-estimator:hover {background-color: #d4ebff;}#sk-container-id-1 div.sk-parallel-item::after {content: \"\";width: 100%;border-bottom: 1px solid gray;flex-grow: 1;}#sk-container-id-1 div.sk-label:hover label.sk-toggleable__label {background-color: #d4ebff;}#sk-container-id-1 div.sk-serial::before {content: \"\";position: absolute;border-left: 1px solid gray;box-sizing: border-box;top: 0;bottom: 0;left: 50%;z-index: 0;}#sk-container-id-1 div.sk-serial {display: flex;flex-direction: column;align-items: center;background-color: white;padding-right: 0.2em;padding-left: 0.2em;position: relative;}#sk-container-id-1 div.sk-item {position: relative;z-index: 1;}#sk-container-id-1 div.sk-parallel {display: flex;align-items: stretch;justify-content: center;background-color: white;position: relative;}#sk-container-id-1 div.sk-item::before, #sk-container-id-1 div.sk-parallel-item::before {content: \"\";position: absolute;border-left: 1px solid gray;box-sizing: border-box;top: 0;bottom: 0;left: 50%;z-index: -1;}#sk-container-id-1 div.sk-parallel-item {display: flex;flex-direction: column;z-index: 1;position: relative;background-color: white;}#sk-container-id-1 div.sk-parallel-item:first-child::after {align-self: flex-end;width: 50%;}#sk-container-id-1 div.sk-parallel-item:last-child::after {align-self: flex-start;width: 50%;}#sk-container-id-1 div.sk-parallel-item:only-child::after {width: 0;}#sk-container-id-1 div.sk-dashed-wrapped {border: 1px dashed gray;margin: 0 0.4em 0.5em 0.4em;box-sizing: border-box;padding-bottom: 0.4em;background-color: white;}#sk-container-id-1 div.sk-label label {font-family: monospace;font-weight: bold;display: inline-block;line-height: 1.2em;}#sk-container-id-1 div.sk-label-container {text-align: center;}#sk-container-id-1 div.sk-container {/* jupyter's `normalize.less` sets `[hidden] { display: none; }` but bootstrap.min.css set `[hidden] { display: none !important; }` so we also need the `!important` here to be able to override the default hidden behavior on the sphinx rendered scikit-learn.org. See: https://github.com/scikit-learn/scikit-learn/issues/21755 */display: inline-block !important;position: relative;}#sk-container-id-1 div.sk-text-repr-fallback {display: none;}</style><div id=\"sk-container-id-1\" class=\"sk-top-container\"><div class=\"sk-text-repr-fallback\"><pre>LogisticRegression()</pre><b>In a Jupyter environment, please rerun this cell to show the HTML representation or trust the notebook. <br />On GitHub, the HTML representation is unable to render, please try loading this page with nbviewer.org.</b></div><div class=\"sk-container\" hidden><div class=\"sk-item\"><div class=\"sk-estimator sk-toggleable\"><input class=\"sk-toggleable__control sk-hidden--visually\" id=\"sk-estimator-id-1\" type=\"checkbox\" checked><label for=\"sk-estimator-id-1\" class=\"sk-toggleable__label sk-toggleable__label-arrow\">LogisticRegression</label><div class=\"sk-toggleable__content\"><pre>LogisticRegression()</pre></div></div></div></div></div>"
      ],
      "text/plain": [
       "LogisticRegression()"
      ]
     },
     "execution_count": 42,
     "metadata": {},
     "output_type": "execute_result"
    }
   ],
   "source": [
    "logis.fit(x_train, y_train)"
   ]
  },
  {
   "cell_type": "markdown",
   "metadata": {},
   "source": [
    "##### Calculando as predições"
   ]
  },
  {
   "cell_type": "code",
   "execution_count": 43,
   "metadata": {},
   "outputs": [],
   "source": [
    "y_predict = logis.predict(x_test)"
   ]
  },
  {
   "cell_type": "markdown",
   "metadata": {},
   "source": [
    "##### Avaliando o resultado"
   ]
  },
  {
   "cell_type": "code",
   "execution_count": 44,
   "metadata": {},
   "outputs": [
    {
     "name": "stdout",
     "output_type": "stream",
     "text": [
      "Accuracy = 0.75\n"
     ]
    }
   ],
   "source": [
    "accuracy_result(y_test, y_predict)"
   ]
  },
  {
   "cell_type": "code",
   "execution_count": 45,
   "metadata": {},
   "outputs": [
    {
     "name": "stdout",
     "output_type": "stream",
     "text": [
      "\n",
      "Logistic Regression AUC = 0.5053008079872368\n",
      "\n",
      "              precision    recall  f1-score   support\n",
      "\n",
      "           0       0.76      0.98      0.86      2286\n",
      "           1       0.33      0.03      0.05       714\n",
      "\n",
      "    accuracy                           0.75      3000\n",
      "   macro avg       0.55      0.51      0.46      3000\n",
      "weighted avg       0.66      0.75      0.67      3000\n",
      "\n"
     ]
    }
   ],
   "source": [
    "roc_classification_report_results(\"Logistic Regression\", y_test, y_predict)"
   ]
  },
  {
   "cell_type": "markdown",
   "metadata": {},
   "source": [
    "#### Modelo de Árvore de decisão\n",
    "\n",
    "##### Instanciando o algoritmo"
   ]
  },
  {
   "cell_type": "code",
   "execution_count": 46,
   "metadata": {},
   "outputs": [],
   "source": [
    "from sklearn.tree import DecisionTreeClassifier\n",
    "dtree = DecisionTreeClassifier()"
   ]
  },
  {
   "cell_type": "markdown",
   "metadata": {},
   "source": [
    "##### Realizando o treinamento"
   ]
  },
  {
   "cell_type": "code",
   "execution_count": 47,
   "metadata": {},
   "outputs": [],
   "source": [
    "dtree = dtree.fit(x_train, y_train)"
   ]
  },
  {
   "cell_type": "markdown",
   "metadata": {},
   "source": [
    "##### Calculando as predições"
   ]
  },
  {
   "cell_type": "code",
   "execution_count": 48,
   "metadata": {},
   "outputs": [],
   "source": [
    "y_predict = dtree.predict(x_test)"
   ]
  },
  {
   "cell_type": "markdown",
   "metadata": {},
   "source": [
    "##### Avaliando o resultado"
   ]
  },
  {
   "cell_type": "code",
   "execution_count": 49,
   "metadata": {},
   "outputs": [
    {
     "name": "stdout",
     "output_type": "stream",
     "text": [
      "Accuracy = 0.72\n"
     ]
    }
   ],
   "source": [
    "accuracy_result(y_test, y_predict)"
   ]
  },
  {
   "cell_type": "code",
   "execution_count": 50,
   "metadata": {},
   "outputs": [
    {
     "name": "stdout",
     "output_type": "stream",
     "text": [
      "\n",
      "Decision Tree AUC = 0.6344611335347787\n",
      "\n",
      "              precision    recall  f1-score   support\n",
      "\n",
      "           0       0.83      0.81      0.82      2286\n",
      "           1       0.43      0.46      0.44       714\n",
      "\n",
      "    accuracy                           0.72      3000\n",
      "   macro avg       0.63      0.63      0.63      3000\n",
      "weighted avg       0.73      0.72      0.73      3000\n",
      "\n"
     ]
    }
   ],
   "source": [
    "roc_classification_report_results(\"Decision Tree\", y_test, y_predict)"
   ]
  },
  {
   "cell_type": "markdown",
   "metadata": {},
   "source": [
    "#### Modelo de Árvore Aleatória (Random Forest)\n",
    "\n",
    "##### Instanciando o algoritmo"
   ]
  },
  {
   "cell_type": "code",
   "execution_count": 51,
   "metadata": {},
   "outputs": [],
   "source": [
    "from sklearn.ensemble import RandomForestClassifier\n",
    "rf = RandomForestClassifier()"
   ]
  },
  {
   "cell_type": "markdown",
   "metadata": {},
   "source": [
    "##### Realizando o treinamento"
   ]
  },
  {
   "cell_type": "code",
   "execution_count": 52,
   "metadata": {},
   "outputs": [],
   "source": [
    "rf = rf.fit(x_train, y_train)"
   ]
  },
  {
   "cell_type": "markdown",
   "metadata": {},
   "source": [
    "##### Calculando as predições"
   ]
  },
  {
   "cell_type": "code",
   "execution_count": 53,
   "metadata": {},
   "outputs": [],
   "source": [
    "y_predict = rf.predict(x_test)"
   ]
  },
  {
   "cell_type": "markdown",
   "metadata": {},
   "source": [
    "##### Avaliando o resultado"
   ]
  },
  {
   "cell_type": "code",
   "execution_count": 54,
   "metadata": {},
   "outputs": [
    {
     "name": "stdout",
     "output_type": "stream",
     "text": [
      "Accuracy = 0.80\n"
     ]
    }
   ],
   "source": [
    "accuracy_result(y_test, y_predict)"
   ]
  },
  {
   "cell_type": "code",
   "execution_count": 55,
   "metadata": {},
   "outputs": [
    {
     "name": "stdout",
     "output_type": "stream",
     "text": [
      "\n",
      "Random Forest AUC = 0.6825360065285958\n",
      "\n",
      "              precision    recall  f1-score   support\n",
      "\n",
      "           0       0.84      0.90      0.87      2286\n",
      "           1       0.60      0.46      0.52       714\n",
      "\n",
      "    accuracy                           0.80      3000\n",
      "   macro avg       0.72      0.68      0.70      3000\n",
      "weighted avg       0.78      0.80      0.79      3000\n",
      "\n"
     ]
    }
   ],
   "source": [
    "roc_classification_report_results(\"Random Forest\", y_test, y_predict)"
   ]
  },
  {
   "cell_type": "markdown",
   "metadata": {},
   "source": [
    "#### Pycaret"
   ]
  },
  {
   "cell_type": "code",
   "execution_count": 56,
   "metadata": {},
   "outputs": [],
   "source": [
    "# pip install pycaret\n",
    "\n",
    "# !pip install -U --pre pycaret"
   ]
  },
  {
   "cell_type": "markdown",
   "metadata": {},
   "source": [
    "##### Importando os métodos"
   ]
  },
  {
   "cell_type": "code",
   "execution_count": 57,
   "metadata": {},
   "outputs": [],
   "source": [
    "from pycaret.classification import *"
   ]
  },
  {
   "cell_type": "markdown",
   "metadata": {},
   "source": [
    "##### Definindo o Setup"
   ]
  },
  {
   "cell_type": "code",
   "execution_count": 58,
   "metadata": {},
   "outputs": [
    {
     "data": {
      "text/html": [
       "<style type=\"text/css\">\n",
       "#T_bf597_row8_col1, #T_bf597_row13_col1, #T_bf597_row15_col1 {\n",
       "  background-color: lightgreen;\n",
       "}\n",
       "</style>\n",
       "<table id=\"T_bf597\">\n",
       "  <thead>\n",
       "    <tr>\n",
       "      <th class=\"blank level0\" >&nbsp;</th>\n",
       "      <th id=\"T_bf597_level0_col0\" class=\"col_heading level0 col0\" >Description</th>\n",
       "      <th id=\"T_bf597_level0_col1\" class=\"col_heading level0 col1\" >Value</th>\n",
       "    </tr>\n",
       "  </thead>\n",
       "  <tbody>\n",
       "    <tr>\n",
       "      <th id=\"T_bf597_level0_row0\" class=\"row_heading level0 row0\" >0</th>\n",
       "      <td id=\"T_bf597_row0_col0\" class=\"data row0 col0\" >Session id</td>\n",
       "      <td id=\"T_bf597_row0_col1\" class=\"data row0 col1\" >7981</td>\n",
       "    </tr>\n",
       "    <tr>\n",
       "      <th id=\"T_bf597_level0_row1\" class=\"row_heading level0 row1\" >1</th>\n",
       "      <td id=\"T_bf597_row1_col0\" class=\"data row1 col0\" >Target</td>\n",
       "      <td id=\"T_bf597_row1_col1\" class=\"data row1 col1\" >turnover</td>\n",
       "    </tr>\n",
       "    <tr>\n",
       "      <th id=\"T_bf597_level0_row2\" class=\"row_heading level0 row2\" >2</th>\n",
       "      <td id=\"T_bf597_row2_col0\" class=\"data row2 col0\" >Target type</td>\n",
       "      <td id=\"T_bf597_row2_col1\" class=\"data row2 col1\" >Binary</td>\n",
       "    </tr>\n",
       "    <tr>\n",
       "      <th id=\"T_bf597_level0_row3\" class=\"row_heading level0 row3\" >3</th>\n",
       "      <td id=\"T_bf597_row3_col0\" class=\"data row3 col0\" >Original data shape</td>\n",
       "      <td id=\"T_bf597_row3_col1\" class=\"data row3 col1\" >(14998, 5)</td>\n",
       "    </tr>\n",
       "    <tr>\n",
       "      <th id=\"T_bf597_level0_row4\" class=\"row_heading level0 row4\" >4</th>\n",
       "      <td id=\"T_bf597_row4_col0\" class=\"data row4 col0\" >Transformed data shape</td>\n",
       "      <td id=\"T_bf597_row4_col1\" class=\"data row4 col1\" >(20498, 5)</td>\n",
       "    </tr>\n",
       "    <tr>\n",
       "      <th id=\"T_bf597_level0_row5\" class=\"row_heading level0 row5\" >5</th>\n",
       "      <td id=\"T_bf597_row5_col0\" class=\"data row5 col0\" >Transformed train set shape</td>\n",
       "      <td id=\"T_bf597_row5_col1\" class=\"data row5 col1\" >(15998, 5)</td>\n",
       "    </tr>\n",
       "    <tr>\n",
       "      <th id=\"T_bf597_level0_row6\" class=\"row_heading level0 row6\" >6</th>\n",
       "      <td id=\"T_bf597_row6_col0\" class=\"data row6 col0\" >Transformed test set shape</td>\n",
       "      <td id=\"T_bf597_row6_col1\" class=\"data row6 col1\" >(4500, 5)</td>\n",
       "    </tr>\n",
       "    <tr>\n",
       "      <th id=\"T_bf597_level0_row7\" class=\"row_heading level0 row7\" >7</th>\n",
       "      <td id=\"T_bf597_row7_col0\" class=\"data row7 col0\" >Numeric features</td>\n",
       "      <td id=\"T_bf597_row7_col1\" class=\"data row7 col1\" >1</td>\n",
       "    </tr>\n",
       "    <tr>\n",
       "      <th id=\"T_bf597_level0_row8\" class=\"row_heading level0 row8\" >8</th>\n",
       "      <td id=\"T_bf597_row8_col0\" class=\"data row8 col0\" >Preprocess</td>\n",
       "      <td id=\"T_bf597_row8_col1\" class=\"data row8 col1\" >True</td>\n",
       "    </tr>\n",
       "    <tr>\n",
       "      <th id=\"T_bf597_level0_row9\" class=\"row_heading level0 row9\" >9</th>\n",
       "      <td id=\"T_bf597_row9_col0\" class=\"data row9 col0\" >Imputation type</td>\n",
       "      <td id=\"T_bf597_row9_col1\" class=\"data row9 col1\" >simple</td>\n",
       "    </tr>\n",
       "    <tr>\n",
       "      <th id=\"T_bf597_level0_row10\" class=\"row_heading level0 row10\" >10</th>\n",
       "      <td id=\"T_bf597_row10_col0\" class=\"data row10 col0\" >Numeric imputation</td>\n",
       "      <td id=\"T_bf597_row10_col1\" class=\"data row10 col1\" >mean</td>\n",
       "    </tr>\n",
       "    <tr>\n",
       "      <th id=\"T_bf597_level0_row11\" class=\"row_heading level0 row11\" >11</th>\n",
       "      <td id=\"T_bf597_row11_col0\" class=\"data row11 col0\" >Categorical imputation</td>\n",
       "      <td id=\"T_bf597_row11_col1\" class=\"data row11 col1\" >constant</td>\n",
       "    </tr>\n",
       "    <tr>\n",
       "      <th id=\"T_bf597_level0_row12\" class=\"row_heading level0 row12\" >12</th>\n",
       "      <td id=\"T_bf597_row12_col0\" class=\"data row12 col0\" >Low variance threshold</td>\n",
       "      <td id=\"T_bf597_row12_col1\" class=\"data row12 col1\" >0</td>\n",
       "    </tr>\n",
       "    <tr>\n",
       "      <th id=\"T_bf597_level0_row13\" class=\"row_heading level0 row13\" >13</th>\n",
       "      <td id=\"T_bf597_row13_col0\" class=\"data row13 col0\" >Fix imbalance</td>\n",
       "      <td id=\"T_bf597_row13_col1\" class=\"data row13 col1\" >True</td>\n",
       "    </tr>\n",
       "    <tr>\n",
       "      <th id=\"T_bf597_level0_row14\" class=\"row_heading level0 row14\" >14</th>\n",
       "      <td id=\"T_bf597_row14_col0\" class=\"data row14 col0\" >Fix imbalance method</td>\n",
       "      <td id=\"T_bf597_row14_col1\" class=\"data row14 col1\" >None</td>\n",
       "    </tr>\n",
       "    <tr>\n",
       "      <th id=\"T_bf597_level0_row15\" class=\"row_heading level0 row15\" >15</th>\n",
       "      <td id=\"T_bf597_row15_col0\" class=\"data row15 col0\" >Normalize</td>\n",
       "      <td id=\"T_bf597_row15_col1\" class=\"data row15 col1\" >True</td>\n",
       "    </tr>\n",
       "    <tr>\n",
       "      <th id=\"T_bf597_level0_row16\" class=\"row_heading level0 row16\" >16</th>\n",
       "      <td id=\"T_bf597_row16_col0\" class=\"data row16 col0\" >Normalize method</td>\n",
       "      <td id=\"T_bf597_row16_col1\" class=\"data row16 col1\" >minmax</td>\n",
       "    </tr>\n",
       "    <tr>\n",
       "      <th id=\"T_bf597_level0_row17\" class=\"row_heading level0 row17\" >17</th>\n",
       "      <td id=\"T_bf597_row17_col0\" class=\"data row17 col0\" >Fold Generator</td>\n",
       "      <td id=\"T_bf597_row17_col1\" class=\"data row17 col1\" >StratifiedKFold</td>\n",
       "    </tr>\n",
       "    <tr>\n",
       "      <th id=\"T_bf597_level0_row18\" class=\"row_heading level0 row18\" >18</th>\n",
       "      <td id=\"T_bf597_row18_col0\" class=\"data row18 col0\" >Fold Number</td>\n",
       "      <td id=\"T_bf597_row18_col1\" class=\"data row18 col1\" >10</td>\n",
       "    </tr>\n",
       "    <tr>\n",
       "      <th id=\"T_bf597_level0_row19\" class=\"row_heading level0 row19\" >19</th>\n",
       "      <td id=\"T_bf597_row19_col0\" class=\"data row19 col0\" >CPU Jobs</td>\n",
       "      <td id=\"T_bf597_row19_col1\" class=\"data row19 col1\" >-1</td>\n",
       "    </tr>\n",
       "    <tr>\n",
       "      <th id=\"T_bf597_level0_row20\" class=\"row_heading level0 row20\" >20</th>\n",
       "      <td id=\"T_bf597_row20_col0\" class=\"data row20 col0\" >Use GPU</td>\n",
       "      <td id=\"T_bf597_row20_col1\" class=\"data row20 col1\" >False</td>\n",
       "    </tr>\n",
       "    <tr>\n",
       "      <th id=\"T_bf597_level0_row21\" class=\"row_heading level0 row21\" >21</th>\n",
       "      <td id=\"T_bf597_row21_col0\" class=\"data row21 col0\" >Log Experiment</td>\n",
       "      <td id=\"T_bf597_row21_col1\" class=\"data row21 col1\" >False</td>\n",
       "    </tr>\n",
       "    <tr>\n",
       "      <th id=\"T_bf597_level0_row22\" class=\"row_heading level0 row22\" >22</th>\n",
       "      <td id=\"T_bf597_row22_col0\" class=\"data row22 col0\" >Experiment Name</td>\n",
       "      <td id=\"T_bf597_row22_col1\" class=\"data row22 col1\" >clf-default-name</td>\n",
       "    </tr>\n",
       "    <tr>\n",
       "      <th id=\"T_bf597_level0_row23\" class=\"row_heading level0 row23\" >23</th>\n",
       "      <td id=\"T_bf597_row23_col0\" class=\"data row23 col0\" >USI</td>\n",
       "      <td id=\"T_bf597_row23_col1\" class=\"data row23 col1\" >5eac</td>\n",
       "    </tr>\n",
       "  </tbody>\n",
       "</table>\n"
      ],
      "text/plain": [
       "<pandas.io.formats.style.Styler at 0x7f17ca109d60>"
      ]
     },
     "metadata": {},
     "output_type": "display_data"
    }
   ],
   "source": [
    "s = setup( df[[\"satisfaction\",\"evaluation\",\"averageMonthlyHours\",\"yearsAtCompany\",\"turnover\"]]\n",
    "          ,target=\"turnover\"\n",
    "          ,numeric_features=[\"yearsAtCompany\"]\n",
    "          ,normalize=True\n",
    "          ,normalize_method=\"minmax\"\n",
    "          ,data_split_stratify=True\n",
    "          ,fix_imbalance=True,\n",
    "          )"
   ]
  },
  {
   "cell_type": "markdown",
   "metadata": {},
   "source": [
    "##### Comparando diferentes modelos"
   ]
  },
  {
   "cell_type": "code",
   "execution_count": 59,
   "metadata": {},
   "outputs": [
    {
     "data": {
      "text/html": [],
      "text/plain": [
       "<IPython.core.display.HTML object>"
      ]
     },
     "metadata": {},
     "output_type": "display_data"
    },
    {
     "data": {
      "text/html": [
       "<style type=\"text/css\">\n",
       "#T_867d6 th {\n",
       "  text-align: left;\n",
       "}\n",
       "#T_867d6_row0_col0, #T_867d6_row0_col1, #T_867d6_row0_col3, #T_867d6_row0_col4, #T_867d6_row0_col5, #T_867d6_row0_col6, #T_867d6_row0_col7, #T_867d6_row1_col0, #T_867d6_row1_col1, #T_867d6_row1_col2, #T_867d6_row1_col3, #T_867d6_row1_col5, #T_867d6_row1_col6, #T_867d6_row1_col7, #T_867d6_row2_col0, #T_867d6_row2_col2, #T_867d6_row2_col3, #T_867d6_row2_col4, #T_867d6_row3_col0, #T_867d6_row3_col1, #T_867d6_row3_col2, #T_867d6_row3_col3, #T_867d6_row3_col4, #T_867d6_row3_col5, #T_867d6_row3_col6, #T_867d6_row3_col7, #T_867d6_row4_col0, #T_867d6_row4_col1, #T_867d6_row4_col2, #T_867d6_row4_col3, #T_867d6_row4_col4, #T_867d6_row4_col5, #T_867d6_row4_col6, #T_867d6_row4_col7, #T_867d6_row5_col0, #T_867d6_row5_col1, #T_867d6_row5_col2, #T_867d6_row5_col3, #T_867d6_row5_col4, #T_867d6_row5_col5, #T_867d6_row5_col6, #T_867d6_row5_col7, #T_867d6_row6_col0, #T_867d6_row6_col1, #T_867d6_row6_col2, #T_867d6_row6_col3, #T_867d6_row6_col4, #T_867d6_row6_col5, #T_867d6_row6_col6, #T_867d6_row6_col7, #T_867d6_row7_col0, #T_867d6_row7_col1, #T_867d6_row7_col2, #T_867d6_row7_col4, #T_867d6_row7_col5, #T_867d6_row7_col6, #T_867d6_row7_col7, #T_867d6_row8_col0, #T_867d6_row8_col1, #T_867d6_row8_col2, #T_867d6_row8_col3, #T_867d6_row8_col4, #T_867d6_row8_col5, #T_867d6_row8_col6, #T_867d6_row8_col7, #T_867d6_row9_col0, #T_867d6_row9_col1, #T_867d6_row9_col2, #T_867d6_row9_col3, #T_867d6_row9_col4, #T_867d6_row9_col5, #T_867d6_row9_col6, #T_867d6_row9_col7, #T_867d6_row10_col0, #T_867d6_row10_col1, #T_867d6_row10_col2, #T_867d6_row10_col3, #T_867d6_row10_col4, #T_867d6_row10_col5, #T_867d6_row10_col6, #T_867d6_row10_col7, #T_867d6_row11_col0, #T_867d6_row11_col1, #T_867d6_row11_col2, #T_867d6_row11_col3, #T_867d6_row11_col4, #T_867d6_row11_col5, #T_867d6_row11_col6, #T_867d6_row11_col7, #T_867d6_row12_col0, #T_867d6_row12_col1, #T_867d6_row12_col2, #T_867d6_row12_col3, #T_867d6_row12_col4, #T_867d6_row12_col5, #T_867d6_row12_col6, #T_867d6_row12_col7, #T_867d6_row13_col0, #T_867d6_row13_col1, #T_867d6_row13_col2, #T_867d6_row13_col3, #T_867d6_row13_col4, #T_867d6_row13_col5, #T_867d6_row13_col6, #T_867d6_row13_col7, #T_867d6_row14_col0, #T_867d6_row14_col1, #T_867d6_row14_col2, #T_867d6_row14_col3, #T_867d6_row14_col4, #T_867d6_row14_col5, #T_867d6_row14_col6, #T_867d6_row14_col7, #T_867d6_row15_col0, #T_867d6_row15_col1, #T_867d6_row15_col2, #T_867d6_row15_col3, #T_867d6_row15_col4, #T_867d6_row15_col5, #T_867d6_row15_col6, #T_867d6_row15_col7 {\n",
       "  text-align: left;\n",
       "}\n",
       "#T_867d6_row0_col2, #T_867d6_row1_col4, #T_867d6_row2_col1, #T_867d6_row2_col5, #T_867d6_row2_col6, #T_867d6_row2_col7, #T_867d6_row7_col3 {\n",
       "  text-align: left;\n",
       "  background-color: yellow;\n",
       "}\n",
       "#T_867d6_row0_col8, #T_867d6_row1_col8, #T_867d6_row2_col8, #T_867d6_row3_col8, #T_867d6_row4_col8, #T_867d6_row5_col8, #T_867d6_row6_col8, #T_867d6_row7_col8, #T_867d6_row8_col8, #T_867d6_row10_col8, #T_867d6_row11_col8, #T_867d6_row12_col8, #T_867d6_row13_col8, #T_867d6_row14_col8, #T_867d6_row15_col8 {\n",
       "  text-align: left;\n",
       "  background-color: lightgrey;\n",
       "}\n",
       "#T_867d6_row9_col8 {\n",
       "  text-align: left;\n",
       "  background-color: yellow;\n",
       "  background-color: lightgrey;\n",
       "}\n",
       "</style>\n",
       "<table id=\"T_867d6\">\n",
       "  <thead>\n",
       "    <tr>\n",
       "      <th class=\"blank level0\" >&nbsp;</th>\n",
       "      <th id=\"T_867d6_level0_col0\" class=\"col_heading level0 col0\" >Model</th>\n",
       "      <th id=\"T_867d6_level0_col1\" class=\"col_heading level0 col1\" >Accuracy</th>\n",
       "      <th id=\"T_867d6_level0_col2\" class=\"col_heading level0 col2\" >AUC</th>\n",
       "      <th id=\"T_867d6_level0_col3\" class=\"col_heading level0 col3\" >Recall</th>\n",
       "      <th id=\"T_867d6_level0_col4\" class=\"col_heading level0 col4\" >Prec.</th>\n",
       "      <th id=\"T_867d6_level0_col5\" class=\"col_heading level0 col5\" >F1</th>\n",
       "      <th id=\"T_867d6_level0_col6\" class=\"col_heading level0 col6\" >Kappa</th>\n",
       "      <th id=\"T_867d6_level0_col7\" class=\"col_heading level0 col7\" >MCC</th>\n",
       "      <th id=\"T_867d6_level0_col8\" class=\"col_heading level0 col8\" >TT (Sec)</th>\n",
       "    </tr>\n",
       "  </thead>\n",
       "  <tbody>\n",
       "    <tr>\n",
       "      <th id=\"T_867d6_level0_row0\" class=\"row_heading level0 row0\" >gbc</th>\n",
       "      <td id=\"T_867d6_row0_col0\" class=\"data row0 col0\" >Gradient Boosting Classifier</td>\n",
       "      <td id=\"T_867d6_row0_col1\" class=\"data row0 col1\" >0.8130</td>\n",
       "      <td id=\"T_867d6_row0_col2\" class=\"data row0 col2\" >0.7789</td>\n",
       "      <td id=\"T_867d6_row0_col3\" class=\"data row0 col3\" >0.6399</td>\n",
       "      <td id=\"T_867d6_row0_col4\" class=\"data row0 col4\" >0.6005</td>\n",
       "      <td id=\"T_867d6_row0_col5\" class=\"data row0 col5\" >0.6195</td>\n",
       "      <td id=\"T_867d6_row0_col6\" class=\"data row0 col6\" >0.4957</td>\n",
       "      <td id=\"T_867d6_row0_col7\" class=\"data row0 col7\" >0.4962</td>\n",
       "      <td id=\"T_867d6_row0_col8\" class=\"data row0 col8\" >0.8680</td>\n",
       "    </tr>\n",
       "    <tr>\n",
       "      <th id=\"T_867d6_level0_row1\" class=\"row_heading level0 row1\" >lightgbm</th>\n",
       "      <td id=\"T_867d6_row1_col0\" class=\"data row1 col0\" >Light Gradient Boosting Machine</td>\n",
       "      <td id=\"T_867d6_row1_col1\" class=\"data row1 col1\" >0.8276</td>\n",
       "      <td id=\"T_867d6_row1_col2\" class=\"data row1 col2\" >0.7728</td>\n",
       "      <td id=\"T_867d6_row1_col3\" class=\"data row1 col3\" >0.6030</td>\n",
       "      <td id=\"T_867d6_row1_col4\" class=\"data row1 col4\" >0.6485</td>\n",
       "      <td id=\"T_867d6_row1_col5\" class=\"data row1 col5\" >0.6248</td>\n",
       "      <td id=\"T_867d6_row1_col6\" class=\"data row1 col6\" >0.5131</td>\n",
       "      <td id=\"T_867d6_row1_col7\" class=\"data row1 col7\" >0.5137</td>\n",
       "      <td id=\"T_867d6_row1_col8\" class=\"data row1 col8\" >1.2520</td>\n",
       "    </tr>\n",
       "    <tr>\n",
       "      <th id=\"T_867d6_level0_row2\" class=\"row_heading level0 row2\" >catboost</th>\n",
       "      <td id=\"T_867d6_row2_col0\" class=\"data row2 col0\" >CatBoost Classifier</td>\n",
       "      <td id=\"T_867d6_row2_col1\" class=\"data row2 col1\" >0.8282</td>\n",
       "      <td id=\"T_867d6_row2_col2\" class=\"data row2 col2\" >0.7725</td>\n",
       "      <td id=\"T_867d6_row2_col3\" class=\"data row2 col3\" >0.6123</td>\n",
       "      <td id=\"T_867d6_row2_col4\" class=\"data row2 col4\" >0.6471</td>\n",
       "      <td id=\"T_867d6_row2_col5\" class=\"data row2 col5\" >0.6290</td>\n",
       "      <td id=\"T_867d6_row2_col6\" class=\"data row2 col6\" >0.5173</td>\n",
       "      <td id=\"T_867d6_row2_col7\" class=\"data row2 col7\" >0.5178</td>\n",
       "      <td id=\"T_867d6_row2_col8\" class=\"data row2 col8\" >22.3760</td>\n",
       "    </tr>\n",
       "    <tr>\n",
       "      <th id=\"T_867d6_level0_row3\" class=\"row_heading level0 row3\" >ada</th>\n",
       "      <td id=\"T_867d6_row3_col0\" class=\"data row3 col0\" >Ada Boost Classifier</td>\n",
       "      <td id=\"T_867d6_row3_col1\" class=\"data row3 col1\" >0.7861</td>\n",
       "      <td id=\"T_867d6_row3_col2\" class=\"data row3 col2\" >0.7662</td>\n",
       "      <td id=\"T_867d6_row3_col3\" class=\"data row3 col3\" >0.6467</td>\n",
       "      <td id=\"T_867d6_row3_col4\" class=\"data row3 col4\" >0.5435</td>\n",
       "      <td id=\"T_867d6_row3_col5\" class=\"data row3 col5\" >0.5901</td>\n",
       "      <td id=\"T_867d6_row3_col6\" class=\"data row3 col6\" >0.4471</td>\n",
       "      <td id=\"T_867d6_row3_col7\" class=\"data row3 col7\" >0.4505</td>\n",
       "      <td id=\"T_867d6_row3_col8\" class=\"data row3 col8\" >0.4180</td>\n",
       "    </tr>\n",
       "    <tr>\n",
       "      <th id=\"T_867d6_level0_row4\" class=\"row_heading level0 row4\" >xgboost</th>\n",
       "      <td id=\"T_867d6_row4_col0\" class=\"data row4 col0\" >Extreme Gradient Boosting</td>\n",
       "      <td id=\"T_867d6_row4_col1\" class=\"data row4 col1\" >0.8169</td>\n",
       "      <td id=\"T_867d6_row4_col2\" class=\"data row4 col2\" >0.7642</td>\n",
       "      <td id=\"T_867d6_row4_col3\" class=\"data row4 col3\" >0.5622</td>\n",
       "      <td id=\"T_867d6_row4_col4\" class=\"data row4 col4\" >0.6296</td>\n",
       "      <td id=\"T_867d6_row4_col5\" class=\"data row4 col5\" >0.5938</td>\n",
       "      <td id=\"T_867d6_row4_col6\" class=\"data row4 col6\" >0.4761</td>\n",
       "      <td id=\"T_867d6_row4_col7\" class=\"data row4 col7\" >0.4776</td>\n",
       "      <td id=\"T_867d6_row4_col8\" class=\"data row4 col8\" >1.2340</td>\n",
       "    </tr>\n",
       "    <tr>\n",
       "      <th id=\"T_867d6_level0_row5\" class=\"row_heading level0 row5\" >rf</th>\n",
       "      <td id=\"T_867d6_row5_col0\" class=\"data row5 col0\" >Random Forest Classifier</td>\n",
       "      <td id=\"T_867d6_row5_col1\" class=\"data row5 col1\" >0.7984</td>\n",
       "      <td id=\"T_867d6_row5_col2\" class=\"data row5 col2\" >0.7473</td>\n",
       "      <td id=\"T_867d6_row5_col3\" class=\"data row5 col3\" >0.4998</td>\n",
       "      <td id=\"T_867d6_row5_col4\" class=\"data row5 col4\" >0.5907</td>\n",
       "      <td id=\"T_867d6_row5_col5\" class=\"data row5 col5\" >0.5413</td>\n",
       "      <td id=\"T_867d6_row5_col6\" class=\"data row5 col6\" >0.4133</td>\n",
       "      <td id=\"T_867d6_row5_col7\" class=\"data row5 col7\" >0.4158</td>\n",
       "      <td id=\"T_867d6_row5_col8\" class=\"data row5 col8\" >1.2920</td>\n",
       "    </tr>\n",
       "    <tr>\n",
       "      <th id=\"T_867d6_level0_row6\" class=\"row_heading level0 row6\" >knn</th>\n",
       "      <td id=\"T_867d6_row6_col0\" class=\"data row6 col0\" >K Neighbors Classifier</td>\n",
       "      <td id=\"T_867d6_row6_col1\" class=\"data row6 col1\" >0.7262</td>\n",
       "      <td id=\"T_867d6_row6_col2\" class=\"data row6 col2\" >0.7361</td>\n",
       "      <td id=\"T_867d6_row6_col3\" class=\"data row6 col3\" >0.6363</td>\n",
       "      <td id=\"T_867d6_row6_col4\" class=\"data row6 col4\" >0.4473</td>\n",
       "      <td id=\"T_867d6_row6_col5\" class=\"data row6 col5\" >0.5253</td>\n",
       "      <td id=\"T_867d6_row6_col6\" class=\"data row6 col6\" >0.3411</td>\n",
       "      <td id=\"T_867d6_row6_col7\" class=\"data row6 col7\" >0.3515</td>\n",
       "      <td id=\"T_867d6_row6_col8\" class=\"data row6 col8\" >2.1180</td>\n",
       "    </tr>\n",
       "    <tr>\n",
       "      <th id=\"T_867d6_level0_row7\" class=\"row_heading level0 row7\" >qda</th>\n",
       "      <td id=\"T_867d6_row7_col0\" class=\"data row7 col0\" >Quadratic Discriminant Analysis</td>\n",
       "      <td id=\"T_867d6_row7_col1\" class=\"data row7 col1\" >0.7066</td>\n",
       "      <td id=\"T_867d6_row7_col2\" class=\"data row7 col2\" >0.7320</td>\n",
       "      <td id=\"T_867d6_row7_col3\" class=\"data row7 col3\" >0.7183</td>\n",
       "      <td id=\"T_867d6_row7_col4\" class=\"data row7 col4\" >0.4306</td>\n",
       "      <td id=\"T_867d6_row7_col5\" class=\"data row7 col5\" >0.5383</td>\n",
       "      <td id=\"T_867d6_row7_col6\" class=\"data row7 col6\" >0.3426</td>\n",
       "      <td id=\"T_867d6_row7_col7\" class=\"data row7 col7\" >0.3668</td>\n",
       "      <td id=\"T_867d6_row7_col8\" class=\"data row7 col8\" >0.0740</td>\n",
       "    </tr>\n",
       "    <tr>\n",
       "      <th id=\"T_867d6_level0_row8\" class=\"row_heading level0 row8\" >et</th>\n",
       "      <td id=\"T_867d6_row8_col0\" class=\"data row8 col0\" >Extra Trees Classifier</td>\n",
       "      <td id=\"T_867d6_row8_col1\" class=\"data row8 col1\" >0.7837</td>\n",
       "      <td id=\"T_867d6_row8_col2\" class=\"data row8 col2\" >0.7150</td>\n",
       "      <td id=\"T_867d6_row8_col3\" class=\"data row8 col3\" >0.4646</td>\n",
       "      <td id=\"T_867d6_row8_col4\" class=\"data row8 col4\" >0.5544</td>\n",
       "      <td id=\"T_867d6_row8_col5\" class=\"data row8 col5\" >0.5053</td>\n",
       "      <td id=\"T_867d6_row8_col6\" class=\"data row8 col6\" >0.3683</td>\n",
       "      <td id=\"T_867d6_row8_col7\" class=\"data row8 col7\" >0.3708</td>\n",
       "      <td id=\"T_867d6_row8_col8\" class=\"data row8 col8\" >1.9320</td>\n",
       "    </tr>\n",
       "    <tr>\n",
       "      <th id=\"T_867d6_level0_row9\" class=\"row_heading level0 row9\" >nb</th>\n",
       "      <td id=\"T_867d6_row9_col0\" class=\"data row9 col0\" >Naive Bayes</td>\n",
       "      <td id=\"T_867d6_row9_col1\" class=\"data row9 col1\" >0.6994</td>\n",
       "      <td id=\"T_867d6_row9_col2\" class=\"data row9 col2\" >0.6993</td>\n",
       "      <td id=\"T_867d6_row9_col3\" class=\"data row9 col3\" >0.5802</td>\n",
       "      <td id=\"T_867d6_row9_col4\" class=\"data row9 col4\" >0.4081</td>\n",
       "      <td id=\"T_867d6_row9_col5\" class=\"data row9 col5\" >0.4790</td>\n",
       "      <td id=\"T_867d6_row9_col6\" class=\"data row9 col6\" >0.2768</td>\n",
       "      <td id=\"T_867d6_row9_col7\" class=\"data row9 col7\" >0.2853</td>\n",
       "      <td id=\"T_867d6_row9_col8\" class=\"data row9 col8\" >0.0560</td>\n",
       "    </tr>\n",
       "    <tr>\n",
       "      <th id=\"T_867d6_level0_row10\" class=\"row_heading level0 row10\" >lr</th>\n",
       "      <td id=\"T_867d6_row10_col0\" class=\"data row10 col0\" >Logistic Regression</td>\n",
       "      <td id=\"T_867d6_row10_col1\" class=\"data row10 col1\" >0.6731</td>\n",
       "      <td id=\"T_867d6_row10_col2\" class=\"data row10 col2\" >0.6896</td>\n",
       "      <td id=\"T_867d6_row10_col3\" class=\"data row10 col3\" >0.6459</td>\n",
       "      <td id=\"T_867d6_row10_col4\" class=\"data row10 col4\" >0.3883</td>\n",
       "      <td id=\"T_867d6_row10_col5\" class=\"data row10 col5\" >0.4849</td>\n",
       "      <td id=\"T_867d6_row10_col6\" class=\"data row10 col6\" >0.2668</td>\n",
       "      <td id=\"T_867d6_row10_col7\" class=\"data row10 col7\" >0.2853</td>\n",
       "      <td id=\"T_867d6_row10_col8\" class=\"data row10 col8\" >4.3780</td>\n",
       "    </tr>\n",
       "    <tr>\n",
       "      <th id=\"T_867d6_level0_row11\" class=\"row_heading level0 row11\" >lda</th>\n",
       "      <td id=\"T_867d6_row11_col0\" class=\"data row11 col0\" >Linear Discriminant Analysis</td>\n",
       "      <td id=\"T_867d6_row11_col1\" class=\"data row11 col1\" >0.6738</td>\n",
       "      <td id=\"T_867d6_row11_col2\" class=\"data row11 col2\" >0.6889</td>\n",
       "      <td id=\"T_867d6_row11_col3\" class=\"data row11 col3\" >0.6342</td>\n",
       "      <td id=\"T_867d6_row11_col4\" class=\"data row11 col4\" >0.3874</td>\n",
       "      <td id=\"T_867d6_row11_col5\" class=\"data row11 col5\" >0.4809</td>\n",
       "      <td id=\"T_867d6_row11_col6\" class=\"data row11 col6\" >0.2630</td>\n",
       "      <td id=\"T_867d6_row11_col7\" class=\"data row11 col7\" >0.2800</td>\n",
       "      <td id=\"T_867d6_row11_col8\" class=\"data row11 col8\" >0.0920</td>\n",
       "    </tr>\n",
       "    <tr>\n",
       "      <th id=\"T_867d6_level0_row12\" class=\"row_heading level0 row12\" >dt</th>\n",
       "      <td id=\"T_867d6_row12_col0\" class=\"data row12 col0\" >Decision Tree Classifier</td>\n",
       "      <td id=\"T_867d6_row12_col1\" class=\"data row12 col1\" >0.7199</td>\n",
       "      <td id=\"T_867d6_row12_col2\" class=\"data row12 col2\" >0.6284</td>\n",
       "      <td id=\"T_867d6_row12_col3\" class=\"data row12 col3\" >0.4350</td>\n",
       "      <td id=\"T_867d6_row12_col4\" class=\"data row12 col4\" >0.4160</td>\n",
       "      <td id=\"T_867d6_row12_col5\" class=\"data row12 col5\" >0.4251</td>\n",
       "      <td id=\"T_867d6_row12_col6\" class=\"data row12 col6\" >0.2402</td>\n",
       "      <td id=\"T_867d6_row12_col7\" class=\"data row12 col7\" >0.2404</td>\n",
       "      <td id=\"T_867d6_row12_col8\" class=\"data row12 col8\" >0.0760</td>\n",
       "    </tr>\n",
       "    <tr>\n",
       "      <th id=\"T_867d6_level0_row13\" class=\"row_heading level0 row13\" >dummy</th>\n",
       "      <td id=\"T_867d6_row13_col0\" class=\"data row13 col0\" >Dummy Classifier</td>\n",
       "      <td id=\"T_867d6_row13_col1\" class=\"data row13 col1\" >0.7620</td>\n",
       "      <td id=\"T_867d6_row13_col2\" class=\"data row13 col2\" >0.5000</td>\n",
       "      <td id=\"T_867d6_row13_col3\" class=\"data row13 col3\" >0.0000</td>\n",
       "      <td id=\"T_867d6_row13_col4\" class=\"data row13 col4\" >0.0000</td>\n",
       "      <td id=\"T_867d6_row13_col5\" class=\"data row13 col5\" >0.0000</td>\n",
       "      <td id=\"T_867d6_row13_col6\" class=\"data row13 col6\" >0.0000</td>\n",
       "      <td id=\"T_867d6_row13_col7\" class=\"data row13 col7\" >0.0000</td>\n",
       "      <td id=\"T_867d6_row13_col8\" class=\"data row13 col8\" >0.3260</td>\n",
       "    </tr>\n",
       "    <tr>\n",
       "      <th id=\"T_867d6_level0_row14\" class=\"row_heading level0 row14\" >svm</th>\n",
       "      <td id=\"T_867d6_row14_col0\" class=\"data row14 col0\" >SVM - Linear Kernel</td>\n",
       "      <td id=\"T_867d6_row14_col1\" class=\"data row14 col1\" >0.6466</td>\n",
       "      <td id=\"T_867d6_row14_col2\" class=\"data row14 col2\" >0.0000</td>\n",
       "      <td id=\"T_867d6_row14_col3\" class=\"data row14 col3\" >0.6651</td>\n",
       "      <td id=\"T_867d6_row14_col4\" class=\"data row14 col4\" >0.3686</td>\n",
       "      <td id=\"T_867d6_row14_col5\" class=\"data row14 col5\" >0.4724</td>\n",
       "      <td id=\"T_867d6_row14_col6\" class=\"data row14 col6\" >0.2398</td>\n",
       "      <td id=\"T_867d6_row14_col7\" class=\"data row14 col7\" >0.2646</td>\n",
       "      <td id=\"T_867d6_row14_col8\" class=\"data row14 col8\" >0.0740</td>\n",
       "    </tr>\n",
       "    <tr>\n",
       "      <th id=\"T_867d6_level0_row15\" class=\"row_heading level0 row15\" >ridge</th>\n",
       "      <td id=\"T_867d6_row15_col0\" class=\"data row15 col0\" >Ridge Classifier</td>\n",
       "      <td id=\"T_867d6_row15_col1\" class=\"data row15 col1\" >0.6737</td>\n",
       "      <td id=\"T_867d6_row15_col2\" class=\"data row15 col2\" >0.0000</td>\n",
       "      <td id=\"T_867d6_row15_col3\" class=\"data row15 col3\" >0.6342</td>\n",
       "      <td id=\"T_867d6_row15_col4\" class=\"data row15 col4\" >0.3873</td>\n",
       "      <td id=\"T_867d6_row15_col5\" class=\"data row15 col5\" >0.4808</td>\n",
       "      <td id=\"T_867d6_row15_col6\" class=\"data row15 col6\" >0.2629</td>\n",
       "      <td id=\"T_867d6_row15_col7\" class=\"data row15 col7\" >0.2798</td>\n",
       "      <td id=\"T_867d6_row15_col8\" class=\"data row15 col8\" >0.0680</td>\n",
       "    </tr>\n",
       "  </tbody>\n",
       "</table>\n"
      ],
      "text/plain": [
       "<pandas.io.formats.style.Styler at 0x7f17ca305760>"
      ]
     },
     "metadata": {},
     "output_type": "display_data"
    },
    {
     "data": {
      "application/vnd.jupyter.widget-view+json": {
       "model_id": "adbe8741f307440586aab3b5738f19c0",
       "version_major": 2,
       "version_minor": 0
      },
      "text/plain": [
       "Processing:   0%|          | 0/69 [00:00<?, ?it/s]"
      ]
     },
     "metadata": {},
     "output_type": "display_data"
    }
   ],
   "source": [
    "best = compare_models(fold=5, sort='AUC')"
   ]
  },
  {
   "cell_type": "markdown",
   "metadata": {},
   "source": [
    "##### Criando o modelo"
   ]
  },
  {
   "cell_type": "code",
   "execution_count": 60,
   "metadata": {},
   "outputs": [
    {
     "data": {
      "text/html": [],
      "text/plain": [
       "<IPython.core.display.HTML object>"
      ]
     },
     "metadata": {},
     "output_type": "display_data"
    },
    {
     "data": {
      "text/html": [
       "<style type=\"text/css\">\n",
       "#T_410c1_row5_col0, #T_410c1_row5_col1, #T_410c1_row5_col2, #T_410c1_row5_col3, #T_410c1_row5_col4, #T_410c1_row5_col5, #T_410c1_row5_col6 {\n",
       "  background: yellow;\n",
       "}\n",
       "</style>\n",
       "<table id=\"T_410c1\">\n",
       "  <thead>\n",
       "    <tr>\n",
       "      <th class=\"blank level0\" >&nbsp;</th>\n",
       "      <th id=\"T_410c1_level0_col0\" class=\"col_heading level0 col0\" >Accuracy</th>\n",
       "      <th id=\"T_410c1_level0_col1\" class=\"col_heading level0 col1\" >AUC</th>\n",
       "      <th id=\"T_410c1_level0_col2\" class=\"col_heading level0 col2\" >Recall</th>\n",
       "      <th id=\"T_410c1_level0_col3\" class=\"col_heading level0 col3\" >Prec.</th>\n",
       "      <th id=\"T_410c1_level0_col4\" class=\"col_heading level0 col4\" >F1</th>\n",
       "      <th id=\"T_410c1_level0_col5\" class=\"col_heading level0 col5\" >Kappa</th>\n",
       "      <th id=\"T_410c1_level0_col6\" class=\"col_heading level0 col6\" >MCC</th>\n",
       "    </tr>\n",
       "    <tr>\n",
       "      <th class=\"index_name level0\" >Fold</th>\n",
       "      <th class=\"blank col0\" >&nbsp;</th>\n",
       "      <th class=\"blank col1\" >&nbsp;</th>\n",
       "      <th class=\"blank col2\" >&nbsp;</th>\n",
       "      <th class=\"blank col3\" >&nbsp;</th>\n",
       "      <th class=\"blank col4\" >&nbsp;</th>\n",
       "      <th class=\"blank col5\" >&nbsp;</th>\n",
       "      <th class=\"blank col6\" >&nbsp;</th>\n",
       "    </tr>\n",
       "  </thead>\n",
       "  <tbody>\n",
       "    <tr>\n",
       "      <th id=\"T_410c1_level0_row0\" class=\"row_heading level0 row0\" >0</th>\n",
       "      <td id=\"T_410c1_row0_col0\" class=\"data row0 col0\" >0.8262</td>\n",
       "      <td id=\"T_410c1_row0_col1\" class=\"data row0 col1\" >0.7959</td>\n",
       "      <td id=\"T_410c1_row0_col2\" class=\"data row0 col2\" >0.6700</td>\n",
       "      <td id=\"T_410c1_row0_col3\" class=\"data row0 col3\" >0.6262</td>\n",
       "      <td id=\"T_410c1_row0_col4\" class=\"data row0 col4\" >0.6473</td>\n",
       "      <td id=\"T_410c1_row0_col5\" class=\"data row0 col5\" >0.5322</td>\n",
       "      <td id=\"T_410c1_row0_col6\" class=\"data row0 col6\" >0.5327</td>\n",
       "    </tr>\n",
       "    <tr>\n",
       "      <th id=\"T_410c1_level0_row1\" class=\"row_heading level0 row1\" >1</th>\n",
       "      <td id=\"T_410c1_row1_col0\" class=\"data row1 col0\" >0.8043</td>\n",
       "      <td id=\"T_410c1_row1_col1\" class=\"data row1 col1\" >0.7654</td>\n",
       "      <td id=\"T_410c1_row1_col2\" class=\"data row1 col2\" >0.6040</td>\n",
       "      <td id=\"T_410c1_row1_col3\" class=\"data row1 col3\" >0.5864</td>\n",
       "      <td id=\"T_410c1_row1_col4\" class=\"data row1 col4\" >0.5951</td>\n",
       "      <td id=\"T_410c1_row1_col5\" class=\"data row1 col5\" >0.4661</td>\n",
       "      <td id=\"T_410c1_row1_col6\" class=\"data row1 col6\" >0.4662</td>\n",
       "    </tr>\n",
       "    <tr>\n",
       "      <th id=\"T_410c1_level0_row2\" class=\"row_heading level0 row2\" >2</th>\n",
       "      <td id=\"T_410c1_row2_col0\" class=\"data row2 col0\" >0.8205</td>\n",
       "      <td id=\"T_410c1_row2_col1\" class=\"data row2 col1\" >0.7850</td>\n",
       "      <td id=\"T_410c1_row2_col2\" class=\"data row2 col2\" >0.6640</td>\n",
       "      <td id=\"T_410c1_row2_col3\" class=\"data row2 col3\" >0.6137</td>\n",
       "      <td id=\"T_410c1_row2_col4\" class=\"data row2 col4\" >0.6378</td>\n",
       "      <td id=\"T_410c1_row2_col5\" class=\"data row2 col5\" >0.5188</td>\n",
       "      <td id=\"T_410c1_row2_col6\" class=\"data row2 col6\" >0.5195</td>\n",
       "    </tr>\n",
       "    <tr>\n",
       "      <th id=\"T_410c1_level0_row3\" class=\"row_heading level0 row3\" >3</th>\n",
       "      <td id=\"T_410c1_row3_col0\" class=\"data row3 col0\" >0.8123</td>\n",
       "      <td id=\"T_410c1_row3_col1\" class=\"data row3 col1\" >0.7746</td>\n",
       "      <td id=\"T_410c1_row3_col2\" class=\"data row3 col2\" >0.6453</td>\n",
       "      <td id=\"T_410c1_row3_col3\" class=\"data row3 col3\" >0.5974</td>\n",
       "      <td id=\"T_410c1_row3_col4\" class=\"data row3 col4\" >0.6204</td>\n",
       "      <td id=\"T_410c1_row3_col5\" class=\"data row3 col5\" >0.4960</td>\n",
       "      <td id=\"T_410c1_row3_col6\" class=\"data row3 col6\" >0.4966</td>\n",
       "    </tr>\n",
       "    <tr>\n",
       "      <th id=\"T_410c1_level0_row4\" class=\"row_heading level0 row4\" >4</th>\n",
       "      <td id=\"T_410c1_row4_col0\" class=\"data row4 col0\" >0.8018</td>\n",
       "      <td id=\"T_410c1_row4_col1\" class=\"data row4 col1\" >0.7734</td>\n",
       "      <td id=\"T_410c1_row4_col2\" class=\"data row4 col2\" >0.6160</td>\n",
       "      <td id=\"T_410c1_row4_col3\" class=\"data row4 col3\" >0.5789</td>\n",
       "      <td id=\"T_410c1_row4_col4\" class=\"data row4 col4\" >0.5969</td>\n",
       "      <td id=\"T_410c1_row4_col5\" class=\"data row4 col5\" >0.4657</td>\n",
       "      <td id=\"T_410c1_row4_col6\" class=\"data row4 col6\" >0.4661</td>\n",
       "    </tr>\n",
       "    <tr>\n",
       "      <th id=\"T_410c1_level0_row5\" class=\"row_heading level0 row5\" >Mean</th>\n",
       "      <td id=\"T_410c1_row5_col0\" class=\"data row5 col0\" >0.8130</td>\n",
       "      <td id=\"T_410c1_row5_col1\" class=\"data row5 col1\" >0.7789</td>\n",
       "      <td id=\"T_410c1_row5_col2\" class=\"data row5 col2\" >0.6399</td>\n",
       "      <td id=\"T_410c1_row5_col3\" class=\"data row5 col3\" >0.6005</td>\n",
       "      <td id=\"T_410c1_row5_col4\" class=\"data row5 col4\" >0.6195</td>\n",
       "      <td id=\"T_410c1_row5_col5\" class=\"data row5 col5\" >0.4957</td>\n",
       "      <td id=\"T_410c1_row5_col6\" class=\"data row5 col6\" >0.4962</td>\n",
       "    </tr>\n",
       "    <tr>\n",
       "      <th id=\"T_410c1_level0_row6\" class=\"row_heading level0 row6\" >Std</th>\n",
       "      <td id=\"T_410c1_row6_col0\" class=\"data row6 col0\" >0.0093</td>\n",
       "      <td id=\"T_410c1_row6_col1\" class=\"data row6 col1\" >0.0106</td>\n",
       "      <td id=\"T_410c1_row6_col2\" class=\"data row6 col2\" >0.0260</td>\n",
       "      <td id=\"T_410c1_row6_col3\" class=\"data row6 col3\" >0.0174</td>\n",
       "      <td id=\"T_410c1_row6_col4\" class=\"data row6 col4\" >0.0211</td>\n",
       "      <td id=\"T_410c1_row6_col5\" class=\"data row6 col5\" >0.0270</td>\n",
       "      <td id=\"T_410c1_row6_col6\" class=\"data row6 col6\" >0.0272</td>\n",
       "    </tr>\n",
       "  </tbody>\n",
       "</table>\n"
      ],
      "text/plain": [
       "<pandas.io.formats.style.Styler at 0x7f17ca3104c0>"
      ]
     },
     "metadata": {},
     "output_type": "display_data"
    },
    {
     "data": {
      "application/vnd.jupyter.widget-view+json": {
       "model_id": "0c77c79c7090417288309827ad3c99ef",
       "version_major": 2,
       "version_minor": 0
      },
      "text/plain": [
       "Processing:   0%|          | 0/4 [00:00<?, ?it/s]"
      ]
     },
     "metadata": {},
     "output_type": "display_data"
    }
   ],
   "source": [
    "gbc = create_model('gbc', fold=5)"
   ]
  },
  {
   "cell_type": "markdown",
   "metadata": {},
   "source": [
    "##### Realizando o tunning do modelo"
   ]
  },
  {
   "cell_type": "code",
   "execution_count": 62,
   "metadata": {},
   "outputs": [
    {
     "data": {
      "text/html": [],
      "text/plain": [
       "<IPython.core.display.HTML object>"
      ]
     },
     "metadata": {},
     "output_type": "display_data"
    },
    {
     "data": {
      "text/html": [
       "<style type=\"text/css\">\n",
       "#T_111c7_row5_col0, #T_111c7_row5_col1, #T_111c7_row5_col2, #T_111c7_row5_col3, #T_111c7_row5_col4, #T_111c7_row5_col5, #T_111c7_row5_col6 {\n",
       "  background: yellow;\n",
       "}\n",
       "</style>\n",
       "<table id=\"T_111c7\">\n",
       "  <thead>\n",
       "    <tr>\n",
       "      <th class=\"blank level0\" >&nbsp;</th>\n",
       "      <th id=\"T_111c7_level0_col0\" class=\"col_heading level0 col0\" >Accuracy</th>\n",
       "      <th id=\"T_111c7_level0_col1\" class=\"col_heading level0 col1\" >AUC</th>\n",
       "      <th id=\"T_111c7_level0_col2\" class=\"col_heading level0 col2\" >Recall</th>\n",
       "      <th id=\"T_111c7_level0_col3\" class=\"col_heading level0 col3\" >Prec.</th>\n",
       "      <th id=\"T_111c7_level0_col4\" class=\"col_heading level0 col4\" >F1</th>\n",
       "      <th id=\"T_111c7_level0_col5\" class=\"col_heading level0 col5\" >Kappa</th>\n",
       "      <th id=\"T_111c7_level0_col6\" class=\"col_heading level0 col6\" >MCC</th>\n",
       "    </tr>\n",
       "    <tr>\n",
       "      <th class=\"index_name level0\" >Fold</th>\n",
       "      <th class=\"blank col0\" >&nbsp;</th>\n",
       "      <th class=\"blank col1\" >&nbsp;</th>\n",
       "      <th class=\"blank col2\" >&nbsp;</th>\n",
       "      <th class=\"blank col3\" >&nbsp;</th>\n",
       "      <th class=\"blank col4\" >&nbsp;</th>\n",
       "      <th class=\"blank col5\" >&nbsp;</th>\n",
       "      <th class=\"blank col6\" >&nbsp;</th>\n",
       "    </tr>\n",
       "  </thead>\n",
       "  <tbody>\n",
       "    <tr>\n",
       "      <th id=\"T_111c7_level0_row0\" class=\"row_heading level0 row0\" >0</th>\n",
       "      <td id=\"T_111c7_row0_col0\" class=\"data row0 col0\" >0.8262</td>\n",
       "      <td id=\"T_111c7_row0_col1\" class=\"data row0 col1\" >0.7959</td>\n",
       "      <td id=\"T_111c7_row0_col2\" class=\"data row0 col2\" >0.6700</td>\n",
       "      <td id=\"T_111c7_row0_col3\" class=\"data row0 col3\" >0.6262</td>\n",
       "      <td id=\"T_111c7_row0_col4\" class=\"data row0 col4\" >0.6473</td>\n",
       "      <td id=\"T_111c7_row0_col5\" class=\"data row0 col5\" >0.5322</td>\n",
       "      <td id=\"T_111c7_row0_col6\" class=\"data row0 col6\" >0.5327</td>\n",
       "    </tr>\n",
       "    <tr>\n",
       "      <th id=\"T_111c7_level0_row1\" class=\"row_heading level0 row1\" >1</th>\n",
       "      <td id=\"T_111c7_row1_col0\" class=\"data row1 col0\" >0.8043</td>\n",
       "      <td id=\"T_111c7_row1_col1\" class=\"data row1 col1\" >0.7654</td>\n",
       "      <td id=\"T_111c7_row1_col2\" class=\"data row1 col2\" >0.6040</td>\n",
       "      <td id=\"T_111c7_row1_col3\" class=\"data row1 col3\" >0.5864</td>\n",
       "      <td id=\"T_111c7_row1_col4\" class=\"data row1 col4\" >0.5951</td>\n",
       "      <td id=\"T_111c7_row1_col5\" class=\"data row1 col5\" >0.4661</td>\n",
       "      <td id=\"T_111c7_row1_col6\" class=\"data row1 col6\" >0.4662</td>\n",
       "    </tr>\n",
       "    <tr>\n",
       "      <th id=\"T_111c7_level0_row2\" class=\"row_heading level0 row2\" >2</th>\n",
       "      <td id=\"T_111c7_row2_col0\" class=\"data row2 col0\" >0.8205</td>\n",
       "      <td id=\"T_111c7_row2_col1\" class=\"data row2 col1\" >0.7850</td>\n",
       "      <td id=\"T_111c7_row2_col2\" class=\"data row2 col2\" >0.6640</td>\n",
       "      <td id=\"T_111c7_row2_col3\" class=\"data row2 col3\" >0.6137</td>\n",
       "      <td id=\"T_111c7_row2_col4\" class=\"data row2 col4\" >0.6378</td>\n",
       "      <td id=\"T_111c7_row2_col5\" class=\"data row2 col5\" >0.5188</td>\n",
       "      <td id=\"T_111c7_row2_col6\" class=\"data row2 col6\" >0.5195</td>\n",
       "    </tr>\n",
       "    <tr>\n",
       "      <th id=\"T_111c7_level0_row3\" class=\"row_heading level0 row3\" >3</th>\n",
       "      <td id=\"T_111c7_row3_col0\" class=\"data row3 col0\" >0.8123</td>\n",
       "      <td id=\"T_111c7_row3_col1\" class=\"data row3 col1\" >0.7746</td>\n",
       "      <td id=\"T_111c7_row3_col2\" class=\"data row3 col2\" >0.6453</td>\n",
       "      <td id=\"T_111c7_row3_col3\" class=\"data row3 col3\" >0.5974</td>\n",
       "      <td id=\"T_111c7_row3_col4\" class=\"data row3 col4\" >0.6204</td>\n",
       "      <td id=\"T_111c7_row3_col5\" class=\"data row3 col5\" >0.4960</td>\n",
       "      <td id=\"T_111c7_row3_col6\" class=\"data row3 col6\" >0.4966</td>\n",
       "    </tr>\n",
       "    <tr>\n",
       "      <th id=\"T_111c7_level0_row4\" class=\"row_heading level0 row4\" >4</th>\n",
       "      <td id=\"T_111c7_row4_col0\" class=\"data row4 col0\" >0.8018</td>\n",
       "      <td id=\"T_111c7_row4_col1\" class=\"data row4 col1\" >0.7734</td>\n",
       "      <td id=\"T_111c7_row4_col2\" class=\"data row4 col2\" >0.6160</td>\n",
       "      <td id=\"T_111c7_row4_col3\" class=\"data row4 col3\" >0.5789</td>\n",
       "      <td id=\"T_111c7_row4_col4\" class=\"data row4 col4\" >0.5969</td>\n",
       "      <td id=\"T_111c7_row4_col5\" class=\"data row4 col5\" >0.4657</td>\n",
       "      <td id=\"T_111c7_row4_col6\" class=\"data row4 col6\" >0.4661</td>\n",
       "    </tr>\n",
       "    <tr>\n",
       "      <th id=\"T_111c7_level0_row5\" class=\"row_heading level0 row5\" >Mean</th>\n",
       "      <td id=\"T_111c7_row5_col0\" class=\"data row5 col0\" >0.8130</td>\n",
       "      <td id=\"T_111c7_row5_col1\" class=\"data row5 col1\" >0.7789</td>\n",
       "      <td id=\"T_111c7_row5_col2\" class=\"data row5 col2\" >0.6399</td>\n",
       "      <td id=\"T_111c7_row5_col3\" class=\"data row5 col3\" >0.6005</td>\n",
       "      <td id=\"T_111c7_row5_col4\" class=\"data row5 col4\" >0.6195</td>\n",
       "      <td id=\"T_111c7_row5_col5\" class=\"data row5 col5\" >0.4957</td>\n",
       "      <td id=\"T_111c7_row5_col6\" class=\"data row5 col6\" >0.4962</td>\n",
       "    </tr>\n",
       "    <tr>\n",
       "      <th id=\"T_111c7_level0_row6\" class=\"row_heading level0 row6\" >Std</th>\n",
       "      <td id=\"T_111c7_row6_col0\" class=\"data row6 col0\" >0.0093</td>\n",
       "      <td id=\"T_111c7_row6_col1\" class=\"data row6 col1\" >0.0106</td>\n",
       "      <td id=\"T_111c7_row6_col2\" class=\"data row6 col2\" >0.0260</td>\n",
       "      <td id=\"T_111c7_row6_col3\" class=\"data row6 col3\" >0.0174</td>\n",
       "      <td id=\"T_111c7_row6_col4\" class=\"data row6 col4\" >0.0211</td>\n",
       "      <td id=\"T_111c7_row6_col5\" class=\"data row6 col5\" >0.0270</td>\n",
       "      <td id=\"T_111c7_row6_col6\" class=\"data row6 col6\" >0.0272</td>\n",
       "    </tr>\n",
       "  </tbody>\n",
       "</table>\n"
      ],
      "text/plain": [
       "<pandas.io.formats.style.Styler at 0x7f17ba09dc10>"
      ]
     },
     "metadata": {},
     "output_type": "display_data"
    },
    {
     "data": {
      "application/vnd.jupyter.widget-view+json": {
       "model_id": "225a921a7ced4997ba8f10da68591811",
       "version_major": 2,
       "version_minor": 0
      },
      "text/plain": [
       "Processing:   0%|          | 0/7 [00:00<?, ?it/s]"
      ]
     },
     "metadata": {},
     "output_type": "display_data"
    },
    {
     "name": "stdout",
     "output_type": "stream",
     "text": [
      "Fitting 5 folds for each of 10 candidates, totalling 50 fits\n",
      "Original model was better than the tuned model, hence it will be returned. NOTE: The display metrics are for the tuned model (not the original one).\n"
     ]
    }
   ],
   "source": [
    "tuned_gbc = tune_model(gbc\n",
    "                      ,fold=5\n",
    "                      ,custom_grid={\n",
    "                                    \"learning_rate\":[0.1,0.2,0.5]\n",
    "                                   ,\"n_estimators\":[100,500,1000]\n",
    "                                   ,\"min_samples_split\":[1,2,5,10]\n",
    "                                   ,\"max_depth\":[1,3,9]\n",
    "                                   } \n",
    "                      ,optimize='AUC')"
   ]
  },
  {
   "cell_type": "markdown",
   "metadata": {},
   "source": [
    "##### Finalizando o modelo"
   ]
  },
  {
   "cell_type": "code",
   "execution_count": 63,
   "metadata": {},
   "outputs": [],
   "source": [
    "final_model = finalize_model(tuned_gbc)"
   ]
  },
  {
   "cell_type": "code",
   "execution_count": 64,
   "metadata": {},
   "outputs": [
    {
     "name": "stdout",
     "output_type": "stream",
     "text": [
      "Transformation Pipeline and Model Successfully Saved\n"
     ]
    },
    {
     "data": {
      "text/plain": [
       "(Pipeline(memory=Memory(location=/tmp/joblib),\n",
       "          steps=[('numerical_imputer',\n",
       "                  TransformerWrapper(exclude=None, include=['yearsAtCompany'],\n",
       "                                     transformer=SimpleImputer(add_indicator=False,\n",
       "                                                               copy=True,\n",
       "                                                               fill_value=None,\n",
       "                                                               missing_values=nan,\n",
       "                                                               strategy='mean',\n",
       "                                                               verbose='deprecated'))),\n",
       "                 ('categorical_imputer',\n",
       "                  TransformerWrapper(exclude=None, include=[],\n",
       "                                     transformer=SimpleImp...\n",
       "                                             criterion='friedman_mse', init=None,\n",
       "                                             learning_rate=0.1, loss='log_loss',\n",
       "                                             max_depth=3, max_features=None,\n",
       "                                             max_leaf_nodes=None,\n",
       "                                             min_impurity_decrease=0.0,\n",
       "                                             min_samples_leaf=1,\n",
       "                                             min_samples_split=2,\n",
       "                                             min_weight_fraction_leaf=0.0,\n",
       "                                             n_estimators=100,\n",
       "                                             n_iter_no_change=None,\n",
       "                                             random_state=7981, subsample=1.0,\n",
       "                                             tol=0.0001, validation_fraction=0.1,\n",
       "                                             verbose=0, warm_start=False))],\n",
       "          verbose=False),\n",
       " 'model.pkl')"
      ]
     },
     "execution_count": 64,
     "metadata": {},
     "output_type": "execute_result"
    }
   ],
   "source": [
    "save_model(final_model, 'model')"
   ]
  },
  {
   "cell_type": "markdown",
   "metadata": {},
   "source": [
    "#### Transferindo os arquivos para o Data Lake\n",
    "\n",
    "##### Modelo de Classificação"
   ]
  },
  {
   "cell_type": "code",
   "execution_count": 65,
   "metadata": {},
   "outputs": [
    {
     "data": {
      "text/plain": [
       "<minio.helpers.ObjectWriteResult at 0x7f17ba12e640>"
      ]
     },
     "execution_count": 65,
     "metadata": {},
     "output_type": "execute_result"
    }
   ],
   "source": [
    "client.fput_object(\n",
    "    \"curated\",\n",
    "    \"model.pkl\",\n",
    "    \"model.pkl\"\n",
    ")"
   ]
  },
  {
   "cell_type": "markdown",
   "metadata": {},
   "source": [
    "##### Exportando o conjunto de dados para o disco"
   ]
  },
  {
   "cell_type": "code",
   "execution_count": 66,
   "metadata": {},
   "outputs": [],
   "source": [
    "df.to_csv(\"dataset.csv\", index=False)"
   ]
  },
  {
   "cell_type": "code",
   "execution_count": 67,
   "metadata": {},
   "outputs": [
    {
     "data": {
      "text/plain": [
       "<minio.helpers.ObjectWriteResult at 0x7f17baf63100>"
      ]
     },
     "execution_count": 67,
     "metadata": {},
     "output_type": "execute_result"
    }
   ],
   "source": [
    "client.fput_object(\n",
    "    \"curated\",\n",
    "    \"dataset.csv\",\n",
    "    \"dataset.csv\"\n",
    ")"
   ]
  }
 ],
 "metadata": {
  "kernelspec": {
   "display_name": "Python 3.9.12 ('base')",
   "language": "python",
   "name": "python3"
  },
  "language_info": {
   "codemirror_mode": {
    "name": "ipython",
    "version": 3
   },
   "file_extension": ".py",
   "mimetype": "text/x-python",
   "name": "python",
   "nbconvert_exporter": "python",
   "pygments_lexer": "ipython3",
   "version": "3.9.12"
  },
  "orig_nbformat": 4,
  "vscode": {
   "interpreter": {
    "hash": "ad1f547ca6bde2efe7e9b59d2fcba9fd38de7525bea4d95dd49cfbf16810227f"
   }
  }
 },
 "nbformat": 4,
 "nbformat_minor": 2
}
